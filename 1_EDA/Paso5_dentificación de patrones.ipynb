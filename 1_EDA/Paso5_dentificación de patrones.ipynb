{
 "cells": [
  {
   "cell_type": "markdown",
   "metadata": {},
   "source": [
    "# Análisis de Redes Complejas para la Identificación de Patrones de Comportamiento en las Ventas"
   ]
  },
  {
   "cell_type": "code",
   "execution_count": 1,
   "metadata": {},
   "outputs": [],
   "source": [
    "import pandas as pd\n",
    "import networkx as nx\n",
    "import itertools\n",
    "import matplotlib.pyplot as plt\n",
    "from networkx.algorithms import community\n",
    "import numpy as np\n",
    "from itertools import combinations\n",
    "from sklearn.model_selection import train_test_split\n",
    "from sklearn.ensemble import RandomForestClassifier"
   ]
  },
  {
   "cell_type": "code",
   "execution_count": 2,
   "metadata": {},
   "outputs": [
    {
     "name": "stderr",
     "output_type": "stream",
     "text": [
      "/home/insightlab/anaconda3/envs/similarity/lib/python3.10/site-packages/cupy/_environment.py:540: UserWarning: \n",
      "--------------------------------------------------------------------------------\n",
      "\n",
      "  CuPy may not function correctly because multiple CuPy packages are installed\n",
      "  in your environment:\n",
      "\n",
      "    cupy, cupy-cuda12x\n",
      "\n",
      "  Follow these steps to resolve this issue:\n",
      "\n",
      "    1. For all packages listed above, run the following command to remove all\n",
      "       existing CuPy installations:\n",
      "\n",
      "         $ pip uninstall <package_name>\n",
      "\n",
      "      If you previously installed CuPy via conda, also run the following:\n",
      "\n",
      "         $ conda uninstall cupy\n",
      "\n",
      "    2. Install the appropriate CuPy package.\n",
      "       Refer to the Installation Guide for detailed instructions.\n",
      "\n",
      "         https://docs.cupy.dev/en/stable/install.html\n",
      "\n",
      "--------------------------------------------------------------------------------\n",
      "\n",
      "  warnings.warn(f'''\n"
     ]
    }
   ],
   "source": [
    "import cudf"
   ]
  },
  {
   "cell_type": "code",
   "execution_count": 3,
   "metadata": {},
   "outputs": [
    {
     "data": {
      "text/html": [
       "<div>\n",
       "<style scoped>\n",
       "    .dataframe tbody tr th:only-of-type {\n",
       "        vertical-align: middle;\n",
       "    }\n",
       "\n",
       "    .dataframe tbody tr th {\n",
       "        vertical-align: top;\n",
       "    }\n",
       "\n",
       "    .dataframe thead th {\n",
       "        text-align: right;\n",
       "    }\n",
       "</style>\n",
       "<table border=\"1\" class=\"dataframe\">\n",
       "  <thead>\n",
       "    <tr style=\"text-align: right;\">\n",
       "      <th></th>\n",
       "      <th>OFFER_START_DATE</th>\n",
       "      <th>OFFER_START_DTTM</th>\n",
       "      <th>OFFER_FINISH_DTTM</th>\n",
       "      <th>OFFER_TYPE</th>\n",
       "      <th>INVOLVED_STOCK</th>\n",
       "      <th>REMAINING_STOCK_AFTER_END</th>\n",
       "      <th>SOLD_AMOUNT</th>\n",
       "      <th>SOLD_QUANTITY</th>\n",
       "      <th>ORIGIN</th>\n",
       "      <th>SHIPPING_PAYMENT_TYPE</th>\n",
       "      <th>DOM_DOMAIN_AGG1</th>\n",
       "      <th>VERTICAL</th>\n",
       "      <th>DOMAIN_ID</th>\n",
       "    </tr>\n",
       "  </thead>\n",
       "  <tbody>\n",
       "    <tr>\n",
       "      <th>0</th>\n",
       "      <td>2021-06-22</td>\n",
       "      <td>2021-06-22 16:00:00+00:00</td>\n",
       "      <td>2021-06-22 23:02:43+00:00</td>\n",
       "      <td>lightning_deal</td>\n",
       "      <td>4</td>\n",
       "      <td>-2</td>\n",
       "      <td>4.72</td>\n",
       "      <td>6.0</td>\n",
       "      <td>A</td>\n",
       "      <td>none</td>\n",
       "      <td>PETS FOOD</td>\n",
       "      <td>CPG</td>\n",
       "      <td>MLM-BIRD_FOODS</td>\n",
       "    </tr>\n",
       "    <tr>\n",
       "      <th>1</th>\n",
       "      <td>2021-06-22</td>\n",
       "      <td>2021-06-22 13:00:00+00:00</td>\n",
       "      <td>2021-06-22 19:00:02+00:00</td>\n",
       "      <td>lightning_deal</td>\n",
       "      <td>5</td>\n",
       "      <td>5</td>\n",
       "      <td>NaN</td>\n",
       "      <td>NaN</td>\n",
       "      <td>NaN</td>\n",
       "      <td>free_shipping</td>\n",
       "      <td>PET PRODUCTS</td>\n",
       "      <td>OTHERS</td>\n",
       "      <td>MLM-ANIMAL_AND_PET_PRODUCTS</td>\n",
       "    </tr>\n",
       "    <tr>\n",
       "      <th>2</th>\n",
       "      <td>2021-06-22</td>\n",
       "      <td>2021-06-22 07:00:00+00:00</td>\n",
       "      <td>2021-06-22 13:00:01+00:00</td>\n",
       "      <td>lightning_deal</td>\n",
       "      <td>15</td>\n",
       "      <td>12</td>\n",
       "      <td>10.73</td>\n",
       "      <td>3.0</td>\n",
       "      <td>NaN</td>\n",
       "      <td>none</td>\n",
       "      <td>COMPUTERS</td>\n",
       "      <td>CE</td>\n",
       "      <td>MLM-SPEAKERS</td>\n",
       "    </tr>\n",
       "    <tr>\n",
       "      <th>3</th>\n",
       "      <td>2021-06-22</td>\n",
       "      <td>2021-06-22 19:00:00+00:00</td>\n",
       "      <td>2021-06-23 01:36:12+00:00</td>\n",
       "      <td>lightning_deal</td>\n",
       "      <td>15</td>\n",
       "      <td>13</td>\n",
       "      <td>7.03</td>\n",
       "      <td>2.0</td>\n",
       "      <td>NaN</td>\n",
       "      <td>none</td>\n",
       "      <td>COMPUTERS</td>\n",
       "      <td>CE</td>\n",
       "      <td>MLM-HEADPHONES</td>\n",
       "    </tr>\n",
       "    <tr>\n",
       "      <th>4</th>\n",
       "      <td>2021-06-22</td>\n",
       "      <td>2021-06-22 13:00:00+00:00</td>\n",
       "      <td>2021-06-22 15:48:12+00:00</td>\n",
       "      <td>lightning_deal</td>\n",
       "      <td>15</td>\n",
       "      <td>0</td>\n",
       "      <td>39.65</td>\n",
       "      <td>15.0</td>\n",
       "      <td>NaN</td>\n",
       "      <td>none</td>\n",
       "      <td>COMPUTERS</td>\n",
       "      <td>CE</td>\n",
       "      <td>MLM-HEADPHONES</td>\n",
       "    </tr>\n",
       "    <tr>\n",
       "      <th>...</th>\n",
       "      <td>...</td>\n",
       "      <td>...</td>\n",
       "      <td>...</td>\n",
       "      <td>...</td>\n",
       "      <td>...</td>\n",
       "      <td>...</td>\n",
       "      <td>...</td>\n",
       "      <td>...</td>\n",
       "      <td>...</td>\n",
       "      <td>...</td>\n",
       "      <td>...</td>\n",
       "      <td>...</td>\n",
       "      <td>...</td>\n",
       "    </tr>\n",
       "    <tr>\n",
       "      <th>48741</th>\n",
       "      <td>2021-06-19</td>\n",
       "      <td>2021-06-19 13:00:00+00:00</td>\n",
       "      <td>2021-06-19 19:00:01+00:00</td>\n",
       "      <td>lightning_deal</td>\n",
       "      <td>15</td>\n",
       "      <td>9</td>\n",
       "      <td>16.28</td>\n",
       "      <td>6.0</td>\n",
       "      <td>NaN</td>\n",
       "      <td>none</td>\n",
       "      <td>HOME&amp;DECOR</td>\n",
       "      <td>HOME &amp; INDUSTRY</td>\n",
       "      <td>MLM-CHRISTMAS_LIGHTS</td>\n",
       "    </tr>\n",
       "    <tr>\n",
       "      <th>48742</th>\n",
       "      <td>2021-06-19</td>\n",
       "      <td>2021-06-19 13:00:00+00:00</td>\n",
       "      <td>2021-06-19 19:00:01+00:00</td>\n",
       "      <td>lightning_deal</td>\n",
       "      <td>5</td>\n",
       "      <td>5</td>\n",
       "      <td>NaN</td>\n",
       "      <td>NaN</td>\n",
       "      <td>NaN</td>\n",
       "      <td>free_shipping</td>\n",
       "      <td>HOME&amp;DECOR</td>\n",
       "      <td>HOME &amp; INDUSTRY</td>\n",
       "      <td>MLM-DECORATIVE_PAINTINGS</td>\n",
       "    </tr>\n",
       "    <tr>\n",
       "      <th>48743</th>\n",
       "      <td>2021-06-19</td>\n",
       "      <td>2021-06-19 07:00:00+00:00</td>\n",
       "      <td>2021-06-19 13:00:03+00:00</td>\n",
       "      <td>lightning_deal</td>\n",
       "      <td>5</td>\n",
       "      <td>3</td>\n",
       "      <td>16.62</td>\n",
       "      <td>2.0</td>\n",
       "      <td>NaN</td>\n",
       "      <td>free_shipping</td>\n",
       "      <td>HOME&amp;DECOR</td>\n",
       "      <td>HOME &amp; INDUSTRY</td>\n",
       "      <td>MLM-INDOOR_CURTAINS_AND_BLINDS</td>\n",
       "    </tr>\n",
       "    <tr>\n",
       "      <th>48744</th>\n",
       "      <td>2021-06-19</td>\n",
       "      <td>2021-06-19 13:00:00+00:00</td>\n",
       "      <td>2021-06-19 19:00:00+00:00</td>\n",
       "      <td>lightning_deal</td>\n",
       "      <td>5</td>\n",
       "      <td>1</td>\n",
       "      <td>38.79</td>\n",
       "      <td>4.0</td>\n",
       "      <td>NaN</td>\n",
       "      <td>free_shipping</td>\n",
       "      <td>HOME&amp;DECOR</td>\n",
       "      <td>HOME &amp; INDUSTRY</td>\n",
       "      <td>MLM-INDOOR_CURTAINS_AND_BLINDS</td>\n",
       "    </tr>\n",
       "    <tr>\n",
       "      <th>48745</th>\n",
       "      <td>2021-06-19</td>\n",
       "      <td>2021-06-19 13:00:00+00:00</td>\n",
       "      <td>2021-06-19 19:00:00+00:00</td>\n",
       "      <td>lightning_deal</td>\n",
       "      <td>15</td>\n",
       "      <td>15</td>\n",
       "      <td>NaN</td>\n",
       "      <td>NaN</td>\n",
       "      <td>NaN</td>\n",
       "      <td>free_shipping</td>\n",
       "      <td>HOME&amp;DECOR</td>\n",
       "      <td>HOME &amp; INDUSTRY</td>\n",
       "      <td>MLM-BED_SHEETS</td>\n",
       "    </tr>\n",
       "  </tbody>\n",
       "</table>\n",
       "<p>48746 rows × 13 columns</p>\n",
       "</div>"
      ],
      "text/plain": [
       "      OFFER_START_DATE           OFFER_START_DTTM          OFFER_FINISH_DTTM  \\\n",
       "0           2021-06-22  2021-06-22 16:00:00+00:00  2021-06-22 23:02:43+00:00   \n",
       "1           2021-06-22  2021-06-22 13:00:00+00:00  2021-06-22 19:00:02+00:00   \n",
       "2           2021-06-22  2021-06-22 07:00:00+00:00  2021-06-22 13:00:01+00:00   \n",
       "3           2021-06-22  2021-06-22 19:00:00+00:00  2021-06-23 01:36:12+00:00   \n",
       "4           2021-06-22  2021-06-22 13:00:00+00:00  2021-06-22 15:48:12+00:00   \n",
       "...                ...                        ...                        ...   \n",
       "48741       2021-06-19  2021-06-19 13:00:00+00:00  2021-06-19 19:00:01+00:00   \n",
       "48742       2021-06-19  2021-06-19 13:00:00+00:00  2021-06-19 19:00:01+00:00   \n",
       "48743       2021-06-19  2021-06-19 07:00:00+00:00  2021-06-19 13:00:03+00:00   \n",
       "48744       2021-06-19  2021-06-19 13:00:00+00:00  2021-06-19 19:00:00+00:00   \n",
       "48745       2021-06-19  2021-06-19 13:00:00+00:00  2021-06-19 19:00:00+00:00   \n",
       "\n",
       "           OFFER_TYPE  INVOLVED_STOCK  REMAINING_STOCK_AFTER_END  SOLD_AMOUNT  \\\n",
       "0      lightning_deal               4                         -2         4.72   \n",
       "1      lightning_deal               5                          5          NaN   \n",
       "2      lightning_deal              15                         12        10.73   \n",
       "3      lightning_deal              15                         13         7.03   \n",
       "4      lightning_deal              15                          0        39.65   \n",
       "...               ...             ...                        ...          ...   \n",
       "48741  lightning_deal              15                          9        16.28   \n",
       "48742  lightning_deal               5                          5          NaN   \n",
       "48743  lightning_deal               5                          3        16.62   \n",
       "48744  lightning_deal               5                          1        38.79   \n",
       "48745  lightning_deal              15                         15          NaN   \n",
       "\n",
       "       SOLD_QUANTITY ORIGIN SHIPPING_PAYMENT_TYPE DOM_DOMAIN_AGG1  \\\n",
       "0                6.0      A                  none       PETS FOOD   \n",
       "1                NaN    NaN         free_shipping    PET PRODUCTS   \n",
       "2                3.0    NaN                  none       COMPUTERS   \n",
       "3                2.0    NaN                  none       COMPUTERS   \n",
       "4               15.0    NaN                  none       COMPUTERS   \n",
       "...              ...    ...                   ...             ...   \n",
       "48741            6.0    NaN                  none      HOME&DECOR   \n",
       "48742            NaN    NaN         free_shipping      HOME&DECOR   \n",
       "48743            2.0    NaN         free_shipping      HOME&DECOR   \n",
       "48744            4.0    NaN         free_shipping      HOME&DECOR   \n",
       "48745            NaN    NaN         free_shipping      HOME&DECOR   \n",
       "\n",
       "              VERTICAL                       DOMAIN_ID  \n",
       "0                  CPG                  MLM-BIRD_FOODS  \n",
       "1               OTHERS     MLM-ANIMAL_AND_PET_PRODUCTS  \n",
       "2                   CE                    MLM-SPEAKERS  \n",
       "3                   CE                  MLM-HEADPHONES  \n",
       "4                   CE                  MLM-HEADPHONES  \n",
       "...                ...                             ...  \n",
       "48741  HOME & INDUSTRY            MLM-CHRISTMAS_LIGHTS  \n",
       "48742  HOME & INDUSTRY        MLM-DECORATIVE_PAINTINGS  \n",
       "48743  HOME & INDUSTRY  MLM-INDOOR_CURTAINS_AND_BLINDS  \n",
       "48744  HOME & INDUSTRY  MLM-INDOOR_CURTAINS_AND_BLINDS  \n",
       "48745  HOME & INDUSTRY                  MLM-BED_SHEETS  \n",
       "\n",
       "[48746 rows x 13 columns]"
      ]
     },
     "execution_count": 3,
     "metadata": {},
     "output_type": "execute_result"
    }
   ],
   "source": [
    "# Cargar el dataframe de ofertas relámpago\n",
    "df_ofertas_relampago = pd.read_csv('/home/insightlab/Documents/MercadoLibre/arquivos/ofertas_relampago.csv', encoding='latin1')\n",
    "df_ofertas_relampago"
   ]
  },
  {
   "cell_type": "code",
   "execution_count": 4,
   "metadata": {},
   "outputs": [
    {
     "data": {
      "text/plain": [
       "1266"
      ]
     },
     "execution_count": 4,
     "metadata": {},
     "output_type": "execute_result"
    }
   ],
   "source": [
    "len(df_ofertas_relampago['DOMAIN_ID'].unique())"
   ]
  },
  {
   "cell_type": "code",
   "execution_count": 5,
   "metadata": {},
   "outputs": [
    {
     "data": {
      "text/plain": [
       "61"
      ]
     },
     "execution_count": 5,
     "metadata": {},
     "output_type": "execute_result"
    }
   ],
   "source": [
    "len(df_ofertas_relampago['OFFER_START_DATE'].unique())"
   ]
  },
  {
   "cell_type": "markdown",
   "metadata": {},
   "source": [
    "## Identificación de Patrones en las Redes de Productos\n",
    "\n",
    "EN esta sección vamos a identificar estos grupos de productos que tienden a venderse juntos en las ofertas relámpago, la cual permitirá optimizar las estrategias de precio y maximizar márgenes."
   ]
  },
  {
   "cell_type": "code",
   "execution_count": 6,
   "metadata": {},
   "outputs": [],
   "source": [
    "# Crear un dataframe con las combinaciones de productos que se venden juntos en la misma oferta\n",
    "product_pairs = []\n",
    "\n",
    "for _, group in df_ofertas_relampago.groupby('OFFER_START_DATE'):\n",
    "    products = group['DOMAIN_ID'].unique()\n",
    "    if len(products) > 1:\n",
    "        pairs = list(itertools.combinations(products, 2))\n",
    "        product_pairs.extend(pairs)\n",
    "\n",
    "# Convertir a DataFrame\n",
    "df_pairs = pd.DataFrame(product_pairs, columns=['Product_A', 'Product_B'])\n",
    "\n",
    "# Contar las veces que cada par de productos aparece juntos\n",
    "df_pairs_count = df_pairs.groupby(['Product_A', 'Product_B']).size().reset_index(name='wdegree')\n",
    "\n",
    "# Construcción de la red\n",
    "G = nx.Graph()\n",
    "\n",
    "# Añadir los nodos y aristas (enlaces)\n",
    "for _, row in df_pairs_count.iterrows():\n",
    "    G.add_edge(row['Product_A'], row['Product_B'], weight=row['wdegree'])"
   ]
  },
  {
   "cell_type": "code",
   "execution_count": 7,
   "metadata": {},
   "outputs": [
    {
     "data": {
      "text/html": [
       "<div>\n",
       "<style scoped>\n",
       "    .dataframe tbody tr th:only-of-type {\n",
       "        vertical-align: middle;\n",
       "    }\n",
       "\n",
       "    .dataframe tbody tr th {\n",
       "        vertical-align: top;\n",
       "    }\n",
       "\n",
       "    .dataframe thead th {\n",
       "        text-align: right;\n",
       "    }\n",
       "</style>\n",
       "<table border=\"1\" class=\"dataframe\">\n",
       "  <thead>\n",
       "    <tr style=\"text-align: right;\">\n",
       "      <th></th>\n",
       "      <th>Product_A</th>\n",
       "      <th>Product_B</th>\n",
       "      <th>wdegree</th>\n",
       "    </tr>\n",
       "  </thead>\n",
       "  <tbody>\n",
       "    <tr>\n",
       "      <th>0</th>\n",
       "      <td>MLM-3D_PENS</td>\n",
       "      <td>MLM-ACTION_FIGURES</td>\n",
       "      <td>1</td>\n",
       "    </tr>\n",
       "    <tr>\n",
       "      <th>1</th>\n",
       "      <td>MLM-3D_PENS</td>\n",
       "      <td>MLM-ACUPUNCTURE_NEEDLES</td>\n",
       "      <td>1</td>\n",
       "    </tr>\n",
       "    <tr>\n",
       "      <th>2</th>\n",
       "      <td>MLM-3D_PENS</td>\n",
       "      <td>MLM-ADHESIVE_TAPES</td>\n",
       "      <td>1</td>\n",
       "    </tr>\n",
       "    <tr>\n",
       "      <th>3</th>\n",
       "      <td>MLM-3D_PENS</td>\n",
       "      <td>MLM-AEROBICS_AND_FITNESS_EQUIPMENT</td>\n",
       "      <td>1</td>\n",
       "    </tr>\n",
       "    <tr>\n",
       "      <th>4</th>\n",
       "      <td>MLM-3D_PENS</td>\n",
       "      <td>MLM-AIRGUN_PELLETS</td>\n",
       "      <td>1</td>\n",
       "    </tr>\n",
       "    <tr>\n",
       "      <th>...</th>\n",
       "      <td>...</td>\n",
       "      <td>...</td>\n",
       "      <td>...</td>\n",
       "    </tr>\n",
       "    <tr>\n",
       "      <th>363458</th>\n",
       "      <td>MLM-YOGA_MATS</td>\n",
       "      <td>MLM-WORKBENCHES</td>\n",
       "      <td>1</td>\n",
       "    </tr>\n",
       "    <tr>\n",
       "      <th>363459</th>\n",
       "      <td>MLM-YOGA_MATS</td>\n",
       "      <td>MLM-WORKOUT_BENCHES</td>\n",
       "      <td>6</td>\n",
       "    </tr>\n",
       "    <tr>\n",
       "      <th>363460</th>\n",
       "      <td>MLM-YOGA_MATS</td>\n",
       "      <td>MLM-WORK_COVERALLS_AND_OVERALLS</td>\n",
       "      <td>1</td>\n",
       "    </tr>\n",
       "    <tr>\n",
       "      <th>363461</th>\n",
       "      <td>MLM-YOGA_MATS</td>\n",
       "      <td>MLM-WORK_SCRUBS</td>\n",
       "      <td>9</td>\n",
       "    </tr>\n",
       "    <tr>\n",
       "      <th>363462</th>\n",
       "      <td>MLM-YOGA_MATS</td>\n",
       "      <td>MLM-WRISTWATCH_SCREEN_PROTECTORS</td>\n",
       "      <td>7</td>\n",
       "    </tr>\n",
       "  </tbody>\n",
       "</table>\n",
       "<p>363463 rows × 3 columns</p>\n",
       "</div>"
      ],
      "text/plain": [
       "            Product_A                           Product_B  wdegree\n",
       "0         MLM-3D_PENS                  MLM-ACTION_FIGURES        1\n",
       "1         MLM-3D_PENS             MLM-ACUPUNCTURE_NEEDLES        1\n",
       "2         MLM-3D_PENS                  MLM-ADHESIVE_TAPES        1\n",
       "3         MLM-3D_PENS  MLM-AEROBICS_AND_FITNESS_EQUIPMENT        1\n",
       "4         MLM-3D_PENS                  MLM-AIRGUN_PELLETS        1\n",
       "...               ...                                 ...      ...\n",
       "363458  MLM-YOGA_MATS                     MLM-WORKBENCHES        1\n",
       "363459  MLM-YOGA_MATS                 MLM-WORKOUT_BENCHES        6\n",
       "363460  MLM-YOGA_MATS     MLM-WORK_COVERALLS_AND_OVERALLS        1\n",
       "363461  MLM-YOGA_MATS                     MLM-WORK_SCRUBS        9\n",
       "363462  MLM-YOGA_MATS    MLM-WRISTWATCH_SCREEN_PROTECTORS        7\n",
       "\n",
       "[363463 rows x 3 columns]"
      ]
     },
     "execution_count": 7,
     "metadata": {},
     "output_type": "execute_result"
    }
   ],
   "source": [
    "df_pairs_count"
   ]
  },
  {
   "cell_type": "markdown",
   "metadata": {},
   "source": [
    "Los algoritmos como Louvain o Girvan-Newman nos permite detectar comunidades dentro de la red. Estas comunidades pueden representar grupos de productos que se deben considerar para promociones conjuntas."
   ]
  },
  {
   "cell_type": "code",
   "execution_count": 8,
   "metadata": {},
   "outputs": [
    {
     "name": "stdout",
     "output_type": "stream",
     "text": [
      "Comunidades identificadas:\n",
      "Comunidad 1: {'MLM-TACTICAL_BELTS', 'MLM-BACK_GLASS_WIPER_ARMS', 'MLM-HAND_TOWELS', 'MLM-RECIPROCATING_SAWS', 'MLM-EXTERNAL_LAPTOP_COOLERS', 'MLM-MEDICAL_TOURNIQUETS', 'MLM-MOTORCYCLE_GOGGLES', 'MLM-WIRE_STRIPPERS', 'MLM-NAIL_ART_BRUSHES', 'MLM-HABERDASHERY_BEADS', 'MLM-MANUAL_HOISTS', 'MLM-QUILTS_AND_COVERLETS', 'MLM-FOOD_SLICERS', 'MLM-PET_BRUSHES', 'MLM-TEA_INFUSERS', 'MLM-GARDEN_CHAIRS', 'MLM-HAND_AND_FOOT_MASKS', 'MLM-BABY_CARRIERS', 'MLM-SMARTWATCH_CHARGERS', 'MLM-CRIMPING_PLIERS', 'MLM-GARDENING_AND_AGRICULTURE_SUBSTRATES', 'MLM-NETWORK_PLUG_COVERS', 'MLM-TRAMPOLINES', 'MLM-BIRD_FOODS', 'MLM-KITCHEN_TONGS', 'MLM-SCHOOL_KITS', 'MLM-DESKTOP_COMPUTER_CASES', 'MLM-ELECTRIC_WAFFLE_MAKERS', 'MLM-UNDERWEAR_ORGANIZERS', 'MLM-SKIRTS', 'MLM-HAZELNUT_CREAMS', 'MLM-MEMORY_CARD_READERS', 'MLM-RECTIFIER_DIODES', 'MLM-TEQUILAS', 'MLM-DOG_LEASHES', 'MLM-SLATWALL_PANEL_SUPPORTS', 'MLM-DIVING_MASKS', 'MLM-SPORT_AND_MEDICAL_BANDAGES', 'MLM-3D_PRINTERS', 'MLM-RESPIRATORS', 'MLM-BABY_BATHTUBS', 'MLM-3D_PENS', 'MLM-DESKTOP_COMPUTER_POWER_SUPPLIES', 'MLM-PILL_BOXES', 'MLM-SINGING_BOWLS', 'MLM-GARDENING_IRRIGATION_GUNS', 'MLM-TOY_ROBOTS', 'MLM-DRAFTING_KITS', 'MLM-SANDPAPERS', 'MLM-ELECTRIC_FACIAL_BRUSHES_AND_SPONGES', 'MLM-BICYCLE_SPOKE_NIPPLES', 'MLM-HAND_GRIPS', 'MLM-JEWELRY_DISPLAYS', 'MLM-BABY_FEEDING_PACIFIERS', 'MLM-CUT_OFF_AND_GRINDING_WHEELS', 'MLM-HOT_WATER_BOTTLES', 'MLM-EDIBLE_SEAWEEDS', 'MLM-EMERGENCY_LIGHTS', 'MLM-MOTORCYCLE_HEADLIGHTS', 'MLM-POPCORN_MACHINES', 'MLM-BATTERY_CHARGERS', 'MLM-HOME_THEATERS', 'MLM-ICE_BUCKETS', 'MLM-CULINARY_UNIFORMS', 'MLM-GAUZES', 'MLM-SPORT_HEADBANDS', 'MLM-PORTABLE_EVAPORATIVE_AIR_COOLERS', 'MLM-MOTORCYCLE_FENDER_SUPPORT_BRACKETS', 'MLM-MONEY_BOXES', 'MLM-VINEGARS', 'MLM-BICYCLE_COVERS', 'MLM-FOOTBALL_BALLS', 'MLM-TELEPHONY_AND_RADIO_COMMUNICATION_PRODUCTS', 'MLM-AUTOMOTIVE_FUSE_BOXES', 'MLM-FIBER_OPTIC_SPLITTERS', 'MLM-CANVAS_AND_WOODEN_FRAMES', 'MLM-POLYFUSION_DEVICES', 'MLM-TOWEL_SETS', 'MLM-STICKY_NOTES', 'MLM-WASTE_BASKETS', 'MLM-CLOGS_AND_MULES', 'MLM-CELLPHONE_SELFIE_LIGHTS', 'MLM-PLUNGE_ROUTERS', 'MLM-LUMBAR_AND_ABDOMINAL_BRACES', 'MLM-INCENSES', 'MLM-AQUARIUM_AUTOMATIC_FEEDERS', 'MLM-RODENT_TRAPS', 'MLM-SCULPTURED_NAIL_FORMS', 'MLM-GAME_CONSOLE_SCREEN_PROTECTORS', 'MLM-TEXTILE_LABELS', 'MLM-REFLECTIVE_VESTS', 'MLM-SPORT_AND_BAZAAR_BOTTLES', 'MLM-BABY_PLATES', 'MLM-CAMPING_CHAIRS', 'MLM-AB_ROLLER_WHEELS', 'MLM-WATER_PURIFIERS_FILTERS', 'MLM-DIAPER_ORGANIZERS', 'MLM-TOY_PRETEND_SUITCASES', 'MLM-DECORATIVE_BOXES', 'MLM-USB_HUBS', 'MLM-CUTICLE_REMOVERS', 'MLM-CUTTING_PLOTTERS', 'MLM-SOFA_AND_FUTON_COVERS', 'MLM-WELDING_CURTAINS', 'MLM-BALLOONS_GRIDS', 'MLM-COOKING_BAGS', 'MLM-BABY_BODYSUITS', 'MLM-ELECTRONIC_MUSCLE_STIMULATORS', 'MLM-SPORT_BRAS', 'MLM-INFRARED_THERMOMETERS', 'MLM-DIAPER_BAGS', 'MLM-HYDRAULIC_VEHICLE_JACKS', 'MLM-SPEED_LADDERS', 'MLM-BROOM_HOLDERS', 'MLM-PHOTOGRAPHIC_REFLECTORS', 'MLM-KITCHEN_SIEVES', 'MLM-NAIL_POLISH_THINNERS', 'MLM-PUPPETS', 'MLM-CONCEALERS', 'MLM-WHEEL_HUBS', 'MLM-BORESCOPES', 'MLM-SPORT_PROTECTIVE_GEAR_SETS', 'MLM-MOTORCYCLE_AIR_FILTERS', 'MLM-BABY_CLOTHING', 'MLM-THERMAL_CUPS_AND_TUMBLERS', 'MLM-ARTISTIC_ACRYLIC_PAINTS', 'MLM-WALL_CLOCKS', 'MLM-MANUAL_SCREWDRIVERS', 'MLM-DOLL_CLOTHES', 'MLM-BEARD_KITS', 'MLM-IRRIGATION_SPRINKLERS', 'MLM-CAMPING_LANTERNS', 'MLM-COMBS', 'MLM-MULTIMETERS', 'MLM-PERMANENT_EPILATORS', 'MLM-KITCHEN_SHOVELS_AND_SPATULAS', 'MLM-VEHICLE_BRAKE_PADS', 'MLM-HEADLAMPS', 'MLM-CAT_TOYS', 'MLM-LINEMAN_PLIERS', 'MLM-BASEBALL_AND_SOFTBALL_FIELDING_GLOVES', 'MLM-ANTI_SNORE_CHIN_STRAPS', 'MLM-LEARNING_MAZES', 'MLM-STEERING_WHEEL_COVERS', 'MLM-HANDBAG_ORGANIZERS', 'MLM-CUSHION_AND_PILLOW_COVERS', 'MLM-PET_COLLARS', 'MLM-IDENTIFICATION_AND_PRESENTATION_CARDS', 'MLM-BATH_SALTS', 'MLM-NURSING_PADS', 'MLM-WIRELESS_CHARGERS', 'MLM-CHALKBOARDS_AND_WHITEBOARDS', 'MLM-SCULPTURED_NAIL_REMOVER_CLIPS', 'MLM-CAT_SCRATCHERS', 'MLM-INSECTICIDES', 'MLM-BALL_PIT_BALLS', 'MLM-BICYCLE_HANDLEBAR_TAPES', 'MLM-AQUARIUM_FILTER_MATERIALS', 'MLM-ELECTRIC_LINT_REMOVERS', 'MLM-OFFICE_CONFERENCE_TABLES', 'MLM-ESTHETIC_ELECTROPORATORS', 'MLM-DROPPING_BOTTLES', 'MLM-FACE_POWDERS', 'MLM-CRAYONS', 'MLM-AIR_MATTRESSES', 'MLM-SHAVING_CREAMS', 'MLM-NAIL_POWDERS', 'MLM-FOLDERS_AND_EXPANDING_FILES', 'MLM-CELLPHONE_CAMERA_REPLACEMENT_LENSES', 'MLM-BATHROOM_SUPPLIES', 'MLM-KIDS_EASELS', 'MLM-SPRINKLES', 'MLM-ESOTERIC_PRODUCTS', 'MLM-SCULPTURED_NAIL_BUILDER_GELS', 'MLM-HEADPIECES_TIARAS_AND_HEADBANDS', 'MLM-CYCLING_GLOVES_AND_MITTENS', 'MLM-MECHANICAL_PENCILS', 'MLM-CARABINERS', 'MLM-MILK_FROTHERS', 'MLM-HYGROMETERS', 'MLM-CRAFT_MOLDS', 'MLM-VEHICLE_WAXES', 'MLM-CLEANING_MOPS', 'MLM-CAMERA_TRIPODS', 'MLM-COLOR_POWDERS', 'MLM-COMPUTER_USB_LAMPS', 'MLM-BUCKETS_AND_BASINS', 'MLM-COMBUSTION_BRUSH_CUTTERS_AND_STRING_TRIMMERS', 'MLM-MAKEUP_BRUSH_TEXTURED_CLEANERS', 'MLM-SANDER_MACHINES', 'MLM-MICROWAVES', 'MLM-LIFE_JACKETS', 'MLM-DOG_HARNESSES', 'MLM-MANICURE_AND_PEDICURE_DRILLS', 'MLM-KIDS_TENTS', 'MLM-LASER_POINTERS', 'MLM-HAMMOCKS', 'MLM-MOTORCYCLE_EMBLEMS', 'MLM-LIGHTERS', 'MLM-DOG_NAIL_CLIPPERS', 'MLM-BICYCLE_TRAINERS', 'MLM-WASHING_MACHINE_MOTORS', 'MLM-SWIMMING_GOGGLES', 'MLM-SHOWER_CADDIES', 'MLM-PENNANTS_AND_GARLANDS', 'MLM-ENGINE_VALVE_COVER_GASKET_SETS', 'MLM-ANTIQUES', 'MLM-UKULELES', 'MLM-MEDICAL_EQUIPMENT', 'MLM-ELECTRIC_BLOWERS', 'MLM-HONEY_SPOONS', 'MLM-HYDRATION_BLADDERS', 'MLM-SCHOOL_MODELING_CLAYS', 'MLM-ROLLER_SKATES', 'MLM-COUGH_COLD_AND_FLU_MEDICINES', 'MLM-ELECTRIC_PAINT_SPRAYERS', 'MLM-PASTRY_TIPS', 'MLM-THERMAL_CAN_AND_BOTTLE_HOLDERS', 'MLM-MUSIC_STANDS', 'MLM-MAKEUP_ORGANIZERS', 'MLM-HAND_SAWS', 'MLM-JEWELRY_TOOLS', 'MLM-CHINESE_MEDICAL_CUPS_SETS', 'MLM-SUSPENSION_TRAINERS', 'MLM-POOL_MAINTENANCE_KITS', 'MLM-PROMOTIONAL_PRODUCTS', 'MLM-AUDIO_AND_VIDEO_CONVERTERS', 'MLM-SEWING_THREADS', 'MLM-KIDS_TOILET_ADAPTER_SEATS', 'MLM-KEY_RACKS', 'MLM-BARBELL_WEIGHT_SETS', 'MLM-PET_BEDDINGS', 'MLM-HOSE_ADAPTERS', 'MLM-VIDEO_CAPTURE_DEVICES', 'MLM-DESKTOP_COMPUTER_COOLERS_AND_FANS', 'MLM-AUTOMOTIVE_DASHBOARD_COVERS', 'MLM-PUZZLE_CUBES', 'MLM-CALIPERS', 'MLM-BLOOD_GLUCOSE_METERS', 'MLM-TOY_VIRTUAL_PETS', 'MLM-DISC_CARRYING_CASES', 'MLM-COFFEE_CAPSULES', 'MLM-WATERING_CANS', 'MLM-DECORATIVE_LIGHT_SIGNS', 'MLM-BABY_CUPS', 'MLM-TV_ANTENNAS', 'MLM-GLASSES_FRAMES', 'MLM-CAR_BODY_SCOOPS', 'MLM-BABY_CUSHIONS_AND_PILLOWS', 'MLM-ELLIPTICAL_MACHINES', 'MLM-SUN_UMBRELLAS', 'MLM-DARTS', 'MLM-WEIGHT_PLATES', 'MLM-READING_STANDS', 'MLM-BABY_SWIMWEAR', 'MLM-BEAUTY_WIGS', 'MLM-BUBBLE_MACHINES', 'MLM-GAME_CONSOLE_CASES_AND_BAGS', 'MLM-POWER_SAVERS', 'MLM-HOME_OFFICE_DESK_ORGANIZERS', 'MLM-BOOKS_MAGAZINES_AND_COMICS', 'MLM-POTTIES', 'MLM-IGNITION_KNOCK_SENSORS', 'MLM-COAT_RACKS', 'MLM-LASER_LEVELS', 'MLM-WATER_RADIATORS', 'MLM-ALARMS_AND_SENSORS', 'MLM-ROLLING_PINS', 'MLM-RADIO_FREQUENCY_MACHINES', 'MLM-TOOL_NOZZLES', 'MLM-KITCHEN_PLAYSETS', 'MLM-KITCHEN_GRATERS', 'MLM-CUSHIONS', 'MLM-HAND_TRUCKS', 'MLM-JUICERS', 'MLM-HABERDASHERY_HOOK_AND_LOOP_FASTENERS', 'MLM-HERB_GRINDERS', 'MLM-ARTIFICIAL_PLANTS', 'MLM-NAIL_STICKERS', 'MLM-BABY_SHOWER_VISORS', 'MLM-CONSTRUCTION_INSULATION_ROLLS', 'MLM-COUNTERFEIT_MONEY_DETECTOR_MACHINE', 'MLM-DOORBELLS', 'MLM-ELECTRIC_HOISTS', 'MLM-DRYING_RACKS', 'MLM-HAIR_REMOVAL', 'MLM-STRING_INSTRUMENT_CAPOS', 'MLM-BIRD_EGGS_INCUBATORS', 'MLM-PORTABLE_GENERATORS', 'MLM-CONSTRUCTION_PUMPS', 'MLM-ROBES', 'MLM-MICRO_ROTARY_TOOLS', 'MLM-CHOCOLATE_WATERFALLS', 'MLM-CONTINUOUS_LIGHTING', 'MLM-BATHROOM_ACCESSORIES_SETS', 'MLM-GARDENING', 'MLM-CAR_ANTENNAS', 'MLM-PRESSOTHERAPY_MACHINES', 'MLM-MULTI_TOOL_KNIVES', 'MLM-FETAL_DOPPLERS', 'MLM-GROUND_AND_WHOLE_BEANS_COFFEE', 'MLM-BABY_PLAYARDS', 'MLM-BABY_PUZZLE_PLAY_MATS', 'MLM-FOOD_AND_DRINK_COLORINGS', 'MLM-SUITS', 'MLM-CAR_WHEELS', 'MLM-BABY_CREAMS_AND_OINTMENTS', 'MLM-PACKAGING_BOXES', 'MLM-ALL_TERRAIN_VEHICLE_TIRES', 'MLM-GAME_CONSOLE_POWER_SUPPLIES', 'MLM-TACTICAL_KNEE_PADS', 'MLM-JIG_SAWS', 'MLM-CEREAL_BARS', 'MLM-EAR_COTTON_SWABS', 'MLM-SCREEN_CLEANERS', 'MLM-VEHICLE_SHAMPOOS', 'MLM-WATER_BOOSTER_PUMPS', 'MLM-BABY_SAFETY_HELMETS', 'MLM-CUTICLE_PUSHERS', 'MLM-BATHROOM_EXHAUST_FANS', 'MLM-BABY_STROLLER_ORGANIZERS', 'MLM-BICYCLE_BASKETS', 'MLM-COMPRESSION_SOCKS', 'MLM-HOUSE_NUMBERS', 'MLM-PRINTER_HEADS', 'MLM-NEBULIZERS', 'MLM-DISHWASHING_DETERGENTS', 'MLM-IRRIGATION_KITS', 'MLM-BABY_GYMS', 'MLM-AUTOMOTIVE_BRIGHTENERS', 'MLM-TACTICAL_AND_SPORTING_KNIVES_AND_BLADES', 'MLM-FLOOR_MAKER_MOLDS', 'MLM-LAPTOP_BRIEFCASES', 'MLM-ABS_SENSORS', 'MLM-ACOUSTIC_PANELS', 'MLM-ENERGY_DRINKS', 'MLM-VEHICLE_SCRATCH_REMOVERS', 'MLM-STETHOSCOPES', 'MLM-FASHION_ACCESSORIES', 'MLM-DOG_POOP_BAGS', 'MLM-BICYCLE_HANDLEBAR_GRIPS', 'MLM-CAKE_STANDS', 'MLM-MANUAL_LINT_REMOVERS', 'MLM-CORN_KERNELS', 'MLM-MODEMS', 'MLM-DISPOSABLE_PLATES', 'MLM-TEA_KETTLES', 'MLM-ABRASIVE_SAWS', 'MLM-WALLPAPERS', 'MLM-COOKIES_CUTTERS', 'MLM-BICYCLE_BAGS', 'MLM-NOTEBOOK_CASES', 'MLM-SPARKLING_WATER_MAKERS', 'MLM-GPS', 'MLM-SALT', 'MLM-TELEPHONES', 'MLM-CLOTHES_HANGERS', 'MLM-MOTORCYCLE_TRANSMISSION_KITS', 'MLM-BICYCLE_AND_MOTORCYCLE_ALARMS', 'MLM-WELDING_CHIPPING_HAMMERS', 'MLM-CAMPING_COTS', 'MLM-METAL_DETECTORS', 'MLM-TV_RECEIVERS_AND_DECODERS', 'MLM-VOLTAGE_DETECTORS', 'MLM-HAMBURGER_PRESSES', 'MLM-DRAWING_AND_SKETCH_PADS', 'MLM-MOTORCYCLE_BRAKE_MASTER_CYLINDERS', 'MLM-SECURITY_SEALS', 'MLM-DISPOSABLE_CUPS', 'MLM-ANIMAL_CLIPPERS', 'MLM-HAIR_STRAIGHTENING_BRUSHES', 'MLM-CABLE_ORGANIZER_BAGS', 'MLM-HYDRO_PNEUMATIC_PUMPS', 'MLM-TRADING_CARD_GAMES', 'MLM-POWER_STRIPS', 'MLM-ANTIQUE_BELLS', 'MLM-EAR_TAG_APPLICATORS', 'MLM-DESKTOP_COMPUTERS', 'MLM-EXERCISE_MATS', 'MLM-TOY_GUITARS', 'MLM-DIGITAL_PORTABLE_MEDIA_PLAYERS', 'MLM-SHOWER_CURTAINS', 'MLM-KITCHEN_RANGE_HOODS', 'MLM-ELECTRIC_POTS_SKILLETS_AND_RICE_COOKERS', 'MLM-DESICCANT_BAGS', 'MLM-SLIME_MAKING_KITS', 'MLM-KITCHEN_APRONS', 'MLM-LOCK_PICKS', 'MLM-CLEANING_CLOTHS', 'MLM-BICYCLE_SEATS', 'MLM-XYLOPHONES_AND_METALLOPHONES', 'MLM-HARD_DRIVE_AND_SSD_CADDIES', 'MLM-KITCHEN_WINE_VACUUM_PUMPS', 'MLM-HAIR_MOLDING_AND_STYLING', 'MLM-FRAME_POOLS', 'MLM-DECORATIVE_BLANKETS', 'MLM-EAR_WAX_REMOVERS', 'MLM-BROOCHES', 'MLM-MEDICINE_BALLS', 'MLM-ORTHOPEDIC_ANKLE_BRACES', 'MLM-ENGINE_OIL_PRESSURE_SENSORS', 'MLM-STUN_GUNS', 'MLM-MICROSCOPES', 'MLM-TRAVEL_AND_TRAINING_BAGS', 'MLM-SIM_CARDS', 'MLM-ELECTRODE_PADS', 'MLM-PLANNERS_AND_PERSONAL_DIARIES', 'MLM-DOLL_VEHICLES', 'MLM-DEPILATORY_WAXES', 'MLM-AUTOMOBILE_FUEL_PUMPS', 'MLM-DRINK_PITCHERS', 'MLM-EDIBLE_SEEDS', 'MLM-VESTS', 'MLM-CELLPHONE_CAMERA_PROTECTORS', 'MLM-VIDEO_GAME_CONTROLLER_COVERS', 'MLM-OIL_AND_VINEGAR_BOTTLES', 'MLM-ANGLE_CLAMPS', 'MLM-HAND_AND_FOOT_CREAMS', 'MLM-FLAGS', 'MLM-INSTANT_NOODLES', 'MLM-AUTOMOTIVE_CLIPS', 'MLM-CELLPHONE_PRINTERS', 'MLM-CASH_DRAWERS', 'MLM-BICYCLE_TIRES', 'MLM-UMBRELLAS', 'MLM-OCARINAS', 'MLM-CLEANING_SPONGES', 'MLM-DEPILATORY_CREAMS', 'MLM-ELECTRIC_HAND_PLANERS', 'MLM-POOL_INFLATABLES', 'MLM-MARTIAL_ARTS_UNIFORMS', 'MLM-ELECTRICAL_OUTLETS', 'MLM-TOILET_RUGS', 'MLM-AUTOMOTIVE_ANGEL_EYES', 'MLM-ADULT_DIAPERS', 'MLM-WINDSHIELD_WIPER_SWITCHES', 'MLM-CENTRIFUGAL_PUMPS', 'MLM-CAKE_LEVELERS', 'MLM-ARTIFICIAL_FLOWERS', 'MLM-MOTORCYCLE_MUFFLERS', 'MLM-PEANUT_BUTTERS', 'MLM-VIOLINS', 'MLM-ANKLE_AND_WRIST_WEIGHTS', 'MLM-GYM_HANDLES', 'MLM-MICROPHONE_STANDS', 'MLM-ELECTRIC_DEMOLITION_HAMMERS', 'MLM-HORSE_SUPPLEMENTS', 'MLM-ESTHETIC_HEADBANDS', 'MLM-CONTACT_LENS_CLEANING_SOLUTIONS', 'MLM-CEREALS', 'MLM-CASH_REGISTERS', 'MLM-STYLING_CHAIRS', 'MLM-BLENDER_JARS', 'MLM-PARKING_BLOCKS', 'MLM-LED_THERAPY_FACE_MASKS', 'MLM-BATHROOM_SINKS', 'MLM-GEL_NAIL_KITS', 'MLM-PET_DRYERS', 'MLM-BABY_STROLLER_WEATHER_SHIELDS', 'MLM-BATH_TOWELS', 'MLM-ROBOT_VACUUMS', 'MLM-HARD_DRIVE_AND_SSD_ENCLOSURES', 'MLM-MAKEUP_SETS', 'MLM-CHAIR_COVERS', 'MLM-COCKTAIL_SETS', 'MLM-WATER_DISPENSERS', 'MLM-ORTHOPEDICS', 'MLM-TOASTERS', 'MLM-ANGLE_FINDERS', 'MLM-RATTLES', 'MLM-BABY_MONITORS', 'MLM-INSECT_KILLER_LIGHTS', 'MLM-ALL_IN_ONE', 'MLM-BASKET_BALLS', 'MLM-COMPUTER_MOTHERBOARDS', 'MLM-DRILL_STANDS', 'MLM-TENTS', 'MLM-ORTHOPEDIC_CANES', 'MLM-PARTY_MASKS', 'MLM-WHISKEYS', 'MLM-ARCADE_PARTS_KITS', 'MLM-MOTORCYCLE_CARBURETORS', 'MLM-WATERPROOF_CAMERA_CASES', 'MLM-VEHICLE_MULTIMEDIA_SYSTEMS', 'MLM-VISES', 'MLM-PILATES_BALLS', 'MLM-ESTHETIC_ELECTRIC_DEVICES', 'MLM-HAIRDRESSING_SCISSORS', 'MLM-COMPUTER_MONITORS', 'MLM-ELECTRIC_CREPE_MAKERS', 'MLM-BAKING_MATS', 'MLM-LAPTOP_SKINS', 'MLM-DOG_AND_CAT_SHAMPOOS_AND_CONDITIONERS', 'MLM-VIDEO_GAME_CONTROLLER_CHARGERS', 'MLM-ACOUSTIC_GUITARS', 'MLM-INFRARED_AND_BLUETOOTH_ADAPTERS', 'MLM-OVENS', 'MLM-STATIONARY_BICYCLES', 'MLM-IRONS', 'MLM-MANUAL_MASSAGERS', 'MLM-KITCHEN_TIMERS', 'MLM-JEWELRY_AND_WATCHES', 'MLM-COMPLETE_SKATEBOARDS', 'MLM-VEHICLE_TIRE_VALVE_CAPS', 'MLM-SPORT_PROTECTION_ELBOW_PADS', 'MLM-SWEATERS_AND_CARDIGANS', 'MLM-REMOTE_CONTROL_TOY_VEHICLES', 'MLM-LABEL_MAKERS', 'MLM-CARDS_AND_INVITATIONS', 'MLM-ACUPUNCTURE_NEEDLES', 'MLM-GARDEN_SOIL', 'MLM-SPHYGMOMANOMETERS', 'MLM-GYM_GLOVES', 'MLM-DOG_CARRIERS_AND_CARRYING_BAGS', 'MLM-SHAKER_BOTTLES', 'MLM-BICYCLE_DISC_BRAKE_PADS', 'MLM-CERAMIC_BIDETS', 'MLM-NON_REMOTE_CONTROL_TOY_VEHICLES', 'MLM-MASK_FILTERS', 'MLM-PRESENTATION_REMOTES', 'MLM-SWEETENERS', 'MLM-COMPRESSION_SLEEVES', 'MLM-KITCHEN_POTHOLDERS_AND_OVEN_MITTS', 'MLM-STABILIZERS_AND_UPS', 'MLM-INFLATABLE_POOLS', 'MLM-KICK_SCOOTERS', 'MLM-TV_REMOTE_CONTROL_COVERS', 'MLM-WELDING_BLOWTORCHES', 'MLM-DOOR_PULL_AND_PUSH_HANDLES', 'MLM-BEDDING', 'MLM-SALT_AND_PEPPER_SHAKERS', 'MLM-WIRELESS_FM_TRANSMITTERS', 'MLM-COIN_PURSES', 'MLM-TELESCOPES', 'MLM-POCKET_WATCHES', 'MLM-IMPACT_WRENCHES', 'MLM-CARPETS', 'MLM-KERCHIEFS_AND_PASHMINAS', 'MLM-BB_CREAMS', 'MLM-NAIL_RHINESTONES', 'MLM-PAINT_MIXERS', 'MLM-HEATING_PADS', 'MLM-WETSUITS', 'MLM-JUMP_ROPES', 'MLM-HEEL_CUPS', 'MLM-CAR_CARBURETORS', 'MLM-CHURRO_MAKING_MACHINES', 'MLM-DOOR_AND_GATE_REMOTE_CONTROLS', 'MLM-PANTYHOSE', 'MLM-SANITIZING_GUNS', 'MLM-DISPOSABLE_AND_REFILLABLE_RAZORS', 'MLM-DRIVING_SIMULATORS', 'MLM-CUTTING_BOARDS', 'MLM-TURBANS', 'MLM-DREAMCATCHERS', 'MLM-LIQUID_HAND_AND_BODY_SOAPS', 'MLM-ESPADRILLES', 'MLM-DOG_POTTY_PADS', 'MLM-MANUAL_STAPLERS_AND_BRAD_NAILERS', 'MLM-BICYCLE_SEAT_COVERS', 'MLM-KITCHEN_FAUCETS', 'MLM-AUTOMOTIVE_ALARM_KITS', 'MLM-TABLEWARE_SETS', 'MLM-CAMERA_STRAPS', 'MLM-HOME_SUPPLIES', 'MLM-PEANUTS', 'MLM-FLOOR_LAMPS', 'MLM-KITCHEN_SINK_CADDY_ORGANIZERS', 'MLM-CATHETERS', 'MLM-DRY_BAGS', 'MLM-CHRISTMAS_TREE_ORNAMENTS', 'MLM-SPORT_SWIMWEAR', 'MLM-BABY_WRAP_SLINGS', 'MLM-GYM_BARS', 'MLM-DOOR_AND_WINDOW_WEATHERSTRIPS', 'MLM-CONDUCTIVITY_METERS', 'MLM-AQUARIUM_FILTERS', 'MLM-WINDSHIELD_WIPERS', 'MLM-HEAT_GUNS', 'MLM-IRRIGATION_DRIPPERS', 'MLM-AUTOMOTIVE_PET_SEAT_COVERS', 'MLM-ALARM_CLOCKS', 'MLM-UNIVERSAL_REMOTE_CONTROLS', 'MLM-JEWELRY_BOXES', 'MLM-MANUAL_FACIAL_BRUSHES_AND_SPONGES', 'MLM-TAROT_CARDS', 'MLM-SPICES', 'MLM-EGR_VALVES', 'MLM-FITNESS_TRAMPOLINES', 'MLM-BICYCLE_FENDERS', 'MLM-AMERICAN_FOOTBALL_GLOVES', 'MLM-REPLACEMENT_COFFEE_CARAFES', 'MLM-REFRIGERATOR_WATER_FILTERS', 'MLM-ABDOMINAL_TONING_BELTS', 'MLM-CAMERA_FLASHES', 'MLM-CAR_WINDOW_SWITCHES', 'MLM-AUTOMOTIVE_THROTTLE_BODIES', 'MLM-KNEE_BRACES_SUPPORTS', 'MLM-BABY_SORTING_AND_STACKING_TOYS', 'MLM-BABIES_FORMULA', 'MLM-ORTHOPEDIC_WALKER_BOOTS', 'MLM-MICROBLADING_PIGMENTS', 'MLM-HAIR_REMOVAL_KITS', 'MLM-PASTRY_BAGS', 'MLM-SHOELACES', 'MLM-WALL_AND_DOOR_EXERCISE_BARS', 'MLM-SWIMMING_FINS', 'MLM-CELLPHONE_USB_AND_AUXILIARY_ADAPTERS', 'MLM-GUITAR_PICKS', 'MLM-MOTORCYCLE_SEAT_COVERS', 'MLM-NASAL_WASHERS', 'MLM-CARS_AND_VANS_COVERS', 'MLM-DOG_BEDS', 'MLM-STYLUSES', 'MLM-MINI_BAG_SEALERS', 'MLM-AUTOMOTIVE_EXHAUST_CATALYTICS', 'MLM-FOUNDATIONS', 'MLM-CAKE_TOPPERS', 'MLM-LASER_MEASURES', 'MLM-CLOCKS_ACCESSORIES_AND_SPARE_PARTS', 'MLM-TRAVEL_DOCUMENT_ORGANIZERS', 'MLM-PUNCHING_BAGS', 'MLM-CANDLE_WAXES', 'MLM-BLENDER_DRIVE_COUPLINGS', 'MLM-CEMENT', 'MLM-HOOD_HINGES', 'MLM-BICYCLE_ACCESSORIES_AND_SPARE_PARTS', 'MLM-HEARING_PROTECTORS', 'MLM-DOOR_AND_WINDOW_LATCHES', 'MLM-TABLECLOTHS', 'MLM-MOTORCYCLE_COVERS', 'MLM-SHAWLS', 'MLM-WASHING_AND_DRYER_MACHINE_COVERS', 'MLM-BAR_CODE_SCANNERS', 'MLM-MATTRESS_COVERS', 'MLM-BUNION_CORRECTORS', 'MLM-FOOD_PROCESSORS', 'MLM-POUFS', 'MLM-ELECTRIC_CIRCULAR_SAWS', 'MLM-DRAIN_GRATES', 'MLM-TOILETRY_BAGS', 'MLM-TACTICAL_HANDCUFFS', 'MLM-TOILET_PAPER_HOLDERS', 'MLM-FOOTWEAR_CLEANERS_AND_POLISHES', 'MLM-BOOMBOXES', 'MLM-ESOTERIC_PENDULUMS', 'MLM-BABIES_FOOTWEAR', 'MLM-BABY_CAR_SEATS', 'MLM-BARBELL_PADS', 'MLM-SPORTS_CONES', 'MLM-SPICE_RACKS', 'MLM-TABLET_STANDS_AND_MOUNTS', 'MLM-CORSETS', 'MLM-CONTAINER_CAPS_AND_PLUGS', 'MLM-HAIR_EXTENSIONS', 'MLM-DISC_PACKAGINGS', 'MLM-RABBIT_AND_RODENT_CAGES', 'MLM-MICRODERMABRASION_MACHINES', 'MLM-TOY_KEYBOARDS_AND_PIANOS', 'MLM-GYMNASTIC_AND_PILATES_HOOPS', 'MLM-MOTORCYCLE_CHEST_PROTECTORS', 'MLM-BINOCULARS', 'MLM-HOME_CAN_CRUSHERS', 'MLM-SCREW_EXTRACTORS', 'MLM-SCREWDRIVERS_SETS', 'MLM-DECORATIVE_FLUORESCENT_STICKERS', 'MLM-SNAP_RING_PLIERS', 'MLM-TPMS_SENSORS', 'MLM-HAND_POLISHERS', 'MLM-ROOF_RACKS', 'MLM-CELLPHONES_AND_TELEPHONY', 'MLM-MINERAL_WATERS', 'MLM-SPORT_WEIGHT_VESTS', 'MLM-LAMP_HOLDERS', 'MLM-VEHICLE_CAMERAS', 'MLM-REPTILE_AND_AMPHIBIAN_FOODS', 'MLM-MANICURE_PRACTICE_HANDS_AND_FINGERS', 'MLM-CAMPING_AND_FISHING_EQUIPMENT', 'MLM-INDUSTRIAL_FUSES', 'MLM-FENCE_PRIVACY_TAPES', 'MLM-SUCTION_CUP_DENT_PULLERS', 'MLM-PLACEMATS', 'MLM-TOOL_POUCHES', 'MLM-LAPTOP_STANDS', 'MLM-TALCUMS', 'MLM-BEARD_OILS_AND_BALMS', 'MLM-LATEX_ENAMEL_AND_ACRYLIC_PAINTS', 'MLM-TILE_CUTTERS', 'MLM-WORK_COVERALLS_AND_OVERALLS', 'MLM-BONGS', 'MLM-TILE_LEVELER_SPACERS', 'MLM-MOTORCYCLE_FENDERS', 'MLM-NASAL_CPAP_MASKS', 'MLM-SLIPPERS', 'MLM-3D_PRINTER_NOZZLES', 'MLM-AIRGUN_PELLETS', 'MLM-SUSPENDERS', 'MLM-SUBMERSIBLE_PUMPS', 'MLM-STRAIGHT_RAZORS', 'MLM-PLANT_POTS_AND_PLANTERS', 'MLM-KIDS_TRICYCLES', 'MLM-KATANA_SWORDS', 'MLM-CAR_AIR_FRESHENERS', 'MLM-POOL_PUMP_AND_FILTER_KITS', 'MLM-CAT_LITTER_BOXES', 'MLM-VEHICLE_BATTERY_CHARGERS', 'MLM-KITCHEN_MORTARS', 'MLM-JUMPSUITS_AND_OVERALLS', 'MLM-GOJI_BERRIES', 'MLM-CLEANING_SUPPLIES', 'MLM-HAIR_TIES', 'MLM-INDUSTRIAL_MAGNETS', 'MLM-MEGAPHONES', 'MLM-FISHING_PANTS', 'MLM-BOTTLE_OPENERS', 'MLM-PUZZLES', 'MLM-DOOR_AND_WINDOW_LOCKS', 'MLM-CAT_AND_DOG_DRINKERS_AND_FEEDERS', 'MLM-LICE_COMBS', 'MLM-SOUND_CARDS', 'MLM-ELECTRONIC_LOCKS', 'MLM-MIRRORS', 'MLM-SPINNING_TOPS', 'MLM-IRONING_BOARDS', 'MLM-STAPLERS', 'MLM-LAUNDRY_WASH_BALLS', 'MLM-PIERCINGS', 'MLM-PASTRY_MAKING_SETS', 'MLM-FOOD_STORAGE_CONTAINERS', 'MLM-NAIL_POLISH_REMOVERS', 'MLM-CHOPSTICKS', 'MLM-BREATHALYSERS', 'MLM-ORTHOTICS', 'MLM-LAPTOP_KEYBOARDS', 'MLM-FEMALE_URINATION_DEVICES', 'MLM-3D_PRINTER_FILAMENTS', 'MLM-LUGGAGE_ORGANIZERS', 'MLM-AQUARIUM_SUBSTRATES'}\n",
      "Comunidad 2: {'MLM-VEHICLE_STEREOS', 'MLM-FLOOD_LIGHTS', 'MLM-EMBROIDERY_MACHINES', 'MLM-PLOW_DISC_BURNERS', 'MLM-TABLE_TENNIS_TABLES', 'MLM-CAR_LIGHT_BULBS', 'MLM-TEMPERAS', 'MLM-COOKTOPS', 'MLM-ELECTRIC_DRILLS', 'MLM-TABLE_TENNIS_NETS', 'MLM-FUTONS', 'MLM-CELLPHONE_CAMERA_ATTACHMENTS', 'MLM-SAFES', 'MLM-DECORATIVE_PANELS', 'MLM-RESISTANCE_BANDS', 'MLM-GYMNASTIC_KNEE_PADS', 'MLM-HOME_APPLIANCES', 'MLM-PAJAMAS', 'MLM-PUSH_UP_BARS', 'MLM-AUTOMOTIVE_MOLDINGS', 'MLM-BOARD_GAMES', 'MLM-AUTOMOTIVE_TIRES', 'MLM-EYELINERS', 'MLM-OFFICE_EQUIPMENT', 'MLM-ROUTERS_AND_WIRELESS_SYSTEMS', 'MLM-LIP_BALMS', 'MLM-SHORTS', 'MLM-KINESIOLOGY_TAPES', 'MLM-STOOLS', 'MLM-DATA_CABLES_AND_ADAPTERS', 'MLM-MOTORCYCLE_TIRES', 'MLM-TV_AND_MONITOR_MOUNTS', 'MLM-TOY_BUILDING_SETS', 'MLM-SALON_TROLLEYS', 'MLM-GAME_CONSOLES_VIDEO_GAMES_AND_ARCADE_MACHINES', 'MLM-HOME_LIGHTING_SUPPLIES', 'MLM-SUITCASES', 'MLM-MATTRESSES', 'MLM-ELECTRICAL_CABLES', 'MLM-CELLPHONE_AND_TABLET_FLEX_CABLES', 'MLM-SORE_THROAT_MEDICINES', 'MLM-KIDS_MICROPHONES', 'MLM-PROJECTORS', 'MLM-SMARTWATCHES', 'MLM-SOUND_CONSOLES_AND_MIXERS', 'MLM-SPORTSWEAR', 'MLM-SERVING_AND_HOME_TRAYS', 'MLM-DISHES_RACKS', 'MLM-T_SHIRTS', 'MLM-PARTY_SUPPLIES', 'MLM-HEADBOARDS', 'MLM-MILK_EXTRACTORS', 'MLM-BABY_CRIBS_AND_BASSINETS', 'MLM-TABLET_KEYBOARDS', 'MLM-PANTIES', 'MLM-HAIRDRESSING_ACCESSORIES', 'MLM-NETWORK_CABLES', 'MLM-MICROPHONES', 'MLM-CYCLING_AND_SKATING_HELMETS', 'MLM-SPORTS_AND_FITNESS', 'MLM-FIDGET_SPINNERS', 'MLM-TOOL_ACCESSORIES_AND_SPARES', 'MLM-CAMERAS', 'MLM-TABLE_DRILLS', 'MLM-TOY_DRUMS', 'MLM-INDUSTRIAL_AND_COMMERCIAL_BAG_SEALERS', 'MLM-TOOL_BATTERIES', 'MLM-LADDERS', 'MLM-DRILL_CHUCKS', 'MLM-WRISTWATCH_SCREEN_PROTECTORS', 'MLM-BABY_HIGH_CHAIRS', 'MLM-CONSTRUCTION_MACHINERY', 'MLM-SPORT_PANTS', 'MLM-WINES', 'MLM-INDUSTRIAL_SAWS', 'MLM-TURNTABLES', 'MLM-TV_REMOTE_CONTROLS', 'MLM-GARDEN_HOSES', 'MLM-COMPUTER_EQUIPMENT_AND_SPARE_PARTS', 'MLM-HAIR_DRYERS', 'MLM-CELLPHONE_COVERS', 'MLM-MANICURE_TABLES', 'MLM-GREEN_WALLS_AND_LIVING_PAINTINGS', 'MLM-COOKING_OILS', 'MLM-RAM_MEMORY_MODULES', 'MLM-NOTEBOOKS', 'MLM-SEWING_MACHINES', 'MLM-TV_STORAGE_UNITS', 'MLM-BRAS', 'MLM-BILL_COUNTERS', 'MLM-ENGINE_OILS', 'MLM-STORAGE_DRAWERS', 'MLM-COMBUSTION_PRESSURE_WASHERS', 'MLM-DRIED_FRUITS', 'MLM-VEHICLE_POLISHING_PADS', 'MLM-LEGGINGS', 'MLM-BABY_WALKERS', 'MLM-TEA', 'MLM-LUNCHBOXES', 'MLM-SOFAS', 'MLM-MOUSE_PADS', 'MLM-BLANKETS', 'MLM-SUPPLEMENTS', 'MLM-WALL_LIGHT_SWITCHES', 'MLM-MEDICAL_GEL_PACKS', 'MLM-HATS_AND_CAPS', 'MLM-UNDERPANTS', 'MLM-JEWELRY_MAKING_KITS', 'MLM-SWEATSHIRTS_AND_HOODIES', 'MLM-CHRISTMAS_LIGHTS', 'MLM-BED_SHEETS', 'MLM-CLARINETS', 'MLM-GLASS_SAFETY_FILMS', 'MLM-SCREEN_PRINTERS', 'MLM-EGG_HOLDERS', 'MLM-TAMPING_RAMMERS', 'MLM-BREAST_FEEDING_PILLOWS', 'MLM-WINE_AERATORS', 'MLM-INDOOR_CURTAINS_AND_BLINDS', 'MLM-BLENDERS', 'MLM-BEDS', 'MLM-SLEEPING_MASKS', 'MLM-COMBUSTION_WATER_PUMPS', 'MLM-KITCHEN_SPOONS', 'MLM-IDENTIFICATION_WRISTBANDS', 'MLM-ANALOG_CAMERAS', 'MLM-PILLOWS', 'MLM-HOME_SHELVES', 'MLM-PLASTIC_WRAPS', 'MLM-SAFETY_FACE_SHIELD_VISORS', 'MLM-BEDDING_SETS', 'MLM-AESTHETIC_TREATMENT_TABLES_AND_CHAIRS', 'MLM-SPORT_T_SHIRTS', 'MLM-BABY_BOUNCERS', 'MLM-DECORATIVE_VINYLS', 'MLM-MUSICAL_KEYBOARDS', 'MLM-MOTORCYCLE_HELMETS', 'MLM-MIXERS', 'MLM-POKER_CHIPS', 'MLM-CLEANING_MOP_REPLACEMENTS', 'MLM-FLATWARE_ORGANIZERS', 'MLM-WORKOUT_BENCHES', 'MLM-CURLING_IRONS', 'MLM-KARAOKE_MICROPHONES', 'MLM-HEARING_AIDS', 'MLM-FLEA_AND_TICK_TREATMENTS', 'MLM-BABY_BASSINETS_AND_MOSES_BASKETS', 'MLM-PARTY_SUPPLY_KITS', 'MLM-TABLE_AND_DESK_LAMPS', 'MLM-ALLERGY_MEDICINES', 'MLM-ROTATING_TOOLS_POLISHING_BRUSHES', 'MLM-SIDE_TABLES', 'MLM-FOOT_BATH_MASSAGERS', 'MLM-BED_AND_CRIB_CANOPIES', 'MLM-COFFEE_MAKERS', 'MLM-ELECTRIC_HOME_HEATERS', 'MLM-STRING_INSTRUMENT_STANDS_AND_WALL_HANGERS', 'MLM-HIKING_BOOTS', 'MLM-HAMMER_DRILLS', 'MLM-OFFICE_CHAIRS', 'MLM-COMFORTERS', 'MLM-DINING_TABLES', 'MLM-KITCHEN_BOWLS', 'MLM-ELECTRIC_GRILLS', 'MLM-OXYGEN_TANKS', 'MLM-AUTOMOTIVE_MATS', 'MLM-THERMOSES', 'MLM-FALSE_EYELASHES', 'MLM-BABY_MOBILES', 'MLM-TABLE_SAWS', 'MLM-CAMERA_LENSES', 'MLM-VEHICLE_ACCESSORIES', 'MLM-HOME_APPLIANCES_ACCESSORIES_AND_SPARE_PARTS', 'MLM-BALANCE_BICYCLES', 'MLM-MOBILE_DEVICE_CHARGERS', 'MLM-SHADE_CLOTHS', 'MLM-GRANOLA', 'MLM-REUSABLE_MASKS', 'MLM-KITCHEN_RANGE_HOOD_FILTERS', 'MLM-TAPE_MEASURES', 'MLM-SURVEILLANCE_MONITORING_KITS', 'MLM-RANGES', 'MLM-DRILL_ADAPTERS', 'MLM-WRISTWATCHES', 'MLM-SURGICAL_AND_INDUSTRIAL_MASKS', 'MLM-WEBCAMS', 'MLM-WASHING_MACHINES', 'MLM-VIDEO_CAMERAS', 'MLM-FRYING_PANS_WOKS_GRIDDLES_AND_GRILL_PANS', 'MLM-LIP_LINERS', 'MLM-LIGHT_BULBS', 'MLM-MANICURE_AND_PEDICURE_ELECTRONIC_EXFOLIATORS_AND_FILES', 'MLM-TREADMILLS', 'MLM-DRILL_BITS', 'MLM-SURVEILLANCE_CAMERAS', 'MLM-JUICES', 'MLM-LED_STRIPS', 'MLM-PADLOCKS', 'MLM-PORTABLE_DVD_PLAYERS', 'MLM-ELECTRIC_PRESSURE_WASHERS', 'MLM-CAR_SEAT_COVERS', 'MLM-INDUSTRIAL_AND_COMMERCIAL_SCALES', 'MLM-AUTOMOTIVE_SIDE_VIEW_MIRRORS', 'MLM-BABY_STROLLERS', 'MLM-SPORTSWEAR_SETS', 'MLM-NECK_GAITERS_MASKS_AND_BALACLAVAS', 'MLM-STUFFED_TOYS', 'MLM-COOKING_SCALES', 'MLM-PANTS', 'MLM-GRAPHICS_CARDS', 'MLM-WALKIE_TALKIES', 'MLM-DISPOSABLE_BABY_DIAPERS', 'MLM-DEEP_FRYERS', 'MLM-VACUUM_CLEANERS', 'MLM-OXYGEN_CONCENTRATORS', 'MLM-INSTANT_SOUPS_AND_CREAMS', 'MLM-WALL_AND_CEILING_LIGHTS', 'MLM-BATHROOM_FAUCETS', 'MLM-HAIRDRESSING_CAPS', 'MLM-FOOD_VACUUM_SEALERS', 'MLM-POWER_GRINDERS', 'MLM-COMPUTER_PROCESSORS', 'MLM-PC_KEYBOARDS', 'MLM-DOLL_STROLLERS', 'MLM-TABLET_CASES', 'MLM-SHIRTS', 'MLM-UNDERPLATES', 'MLM-PRINTER_INKS', 'MLM-DOLLS', 'MLM-POWERED_RIDE_ON_TOYS', 'MLM-FLASHLIGHTS', 'MLM-TOOL_BAGS_AND_BACKPACKS', 'MLM-HAIR_STRAIGHTENERS', 'MLM-WATCH_BANDS', 'MLM-NIGHTSTANDS', 'MLM-AIRTIGHT_BAGS', 'MLM-RINGS', 'MLM-BAR_CLAMPS', 'MLM-NAIL_DRYERS', 'MLM-INDUSTRIAL_AND_COMMERCIAL_EQUIPMENT', 'MLM-VEHICLE_STICKERS', 'MLM-MOTORCYCLE_KNEE_PADS', 'MLM-WATER_PURIFIERS_AND_FILTERS', 'MLM-CELLPHONE_ACCESSORIES', 'MLM-TOOL_AND_CONSTRUCTION_SUPPLIES', 'MLM-CARPET_AND_UPHOLSTERY_CLEANERS', 'MLM-PLAGUES_ULTRASONIC_REPELLENTS', 'MLM-SAFETY_GOGGLES', 'MLM-KITCHEN_FORKS', 'MLM-SWIMWEAR', 'MLM-PENS', 'MLM-BACKWASH_UNITS', 'MLM-KEYBOARD_AND_MOUSE_KITS', 'MLM-PUSH_AND_RIDING_TOYS', 'MLM-VEHICLE_PARTS', 'MLM-SCREEN_PRINTING_INKS', 'MLM-PORTABLE_CELLPHONE_CHARGERS', 'MLM-MOTORCYCLE_GLOVES', 'MLM-KITCHEN_KNIVES', 'MLM-AIR_PURIFIERS', 'MLM-WATER_HEATERS', 'MLM-SOCKS', 'MLM-STATIONARY_ENGINES', 'MLM-COASTERS', 'MLM-SIDEBOARDS', 'MLM-VINYL_ROLLS', 'MLM-NECKLACES', 'MLM-YOGA_MATS', 'MLM-BABY_BOTTLES', 'MLM-VIDEO_GAMES', 'MLM-SAFETY_HELMETS', 'MLM-WALLETS', 'MLM-GYM_DUMBBELLS', 'MLM-SUNGLASSES', 'MLM-FOG_LIGHTS', 'MLM-FLATS', 'MLM-PARTY_WIGS', 'MLM-HOME_APPLIANCE_CONTACTORS_AND_RELAYS', 'MLM-COMPUTER_MICE', 'MLM-EYESHADOWS', 'MLM-PACKAGING_CONTAINERS', 'MLM-HEELS_AND_WEDGES', 'MLM-HOME_DECOR', 'MLM-WINE_CELLARS', 'MLM-PENCILS', 'MLM-KIDS_TABLES_AND_CHAIRS_SETS', 'MLM-SURFACES_PROTECTIVE_PAINTS', 'MLM-SAFETY_FOOTWEAR', 'MLM-WELDING_MACHINES', 'MLM-FRAGRANCE_SETS', 'MLM-CHESTS', 'MLM-MOTORCYCLE_RAIN_SUITS', 'MLM-MULTIPURPOSE_CLEANERS_AND_DISINFECTANTS', 'MLM-SPORT_SHORTS', 'MLM-MILK'}\n",
      "Comunidad 3: {'MLM-FOODS_AND_DRINKS', 'MLM-FANNY_PACKS', 'MLM-ORAL_IRRIGATORS', 'MLM-MEASURING_CUPS_AND_JUGS', 'MLM-ARM_SLINGS', 'MLM-DOG_SUPPLEMENTS', 'MLM-PILATES_AND_YOGA_BLOCKS', 'MLM-GAME_CONSOLES', 'MLM-OIL_DIFFUSERS', 'MLM-OXIMETERS', 'MLM-FONDUE_SETS', 'MLM-CELLPHONES', 'MLM-BRACELETS_AND_ANKLE_BRACES', 'MLM-PENDRIVES', 'MLM-MITER_SAWS', 'MLM-WORK_SCRUBS', 'MLM-CACAO', 'MLM-STREAMING_MEDIA_DEVICES', 'MLM-SAUCES_AND_DRESSINGS', 'MLM-GARDENING_AND_AGRICULTURE_SEEDS', 'MLM-DEODORANTS', 'MLM-PASTAS', 'MLM-COMMERCIAL_AND_EVENT_BAGS', 'MLM-COLORING_BOOKS', 'MLM-HOME_OFFICE_DESKS', 'MLM-MASCARAS', 'MLM-BROCHURES', 'MLM-SANDALS_AND_FLIP_FLOPS', 'MLM-EPILATORS_AND_TRIMMERS', 'MLM-INCONTINENCE_PADS', 'MLM-FOOTWEAR', 'MLM-AEROBIC_CRUNCH_MACHINES', 'MLM-SUNSCREENS', 'MLM-DRONES', 'MLM-MEDICAL_WALKERS', 'MLM-SPLINTS', 'MLM-C_CLAMPS', 'MLM-EARRINGS', 'MLM-BABY_BIBS', 'MLM-TRASH_BAGS', 'MLM-AUTOMOTIVE_TAIL_LIGHTS', 'MLM-HAIR_SHAMPOOS_AND_CONDITIONERS', 'MLM-CAR_SCANNERS', 'MLM-MEMORY_CARDS', 'MLM-LIP_GLOSSES', 'MLM-CATS_AND_DOGS_FOODS', 'MLM-HONEY', 'MLM-DRESSES', 'MLM-DISPOSABLE_GLOVES', 'MLM-LIVING_ROOM_SETS', 'MLM-CELL_BATTERIES', 'MLM-PADS', 'MLM-PAPER_TOWEL_DISPENSERS', 'MLM-AUTOMOTIVE_CELLPHONE_AND_GPS_MOUNTS', 'MLM-PRINTERS', 'MLM-CANDLES', 'MLM-CAR_RACE_TRACKS_AND_BLAST_LAUNCHERS', 'MLM-BEAUTY_AND_PERSONAL_CARE_SUPPLIES', 'MLM-PARTY_HEADBANDS_CROWNS_AND_TIARAS', 'MLM-KITCHEN_MOLDS', 'MLM-SNEAKERS', 'MLM-CHOCOLATES', 'MLM-ACTION_FIGURES', 'MLM-BELTS', 'MLM-HYDRAULIC_CRIMPING_PLIERS', 'MLM-BODY_SKIN_CARE_PRODUCTS', 'MLM-ELECTRIC_BRUSH_CUTTERS_AND_STRING_TRIMMERS', 'MLM-COMBINED_TOOL_SETS', 'MLM-SOLDERING_IRONS', 'MLM-MAGIC_SAND', 'MLM-SHOWER_HEADS', 'MLM-ANTIBACTERIAL_GELS', 'MLM-CANNED_AND_PRESERVED_FOOD', 'MLM-LIPSTICKS', 'MLM-PAPER_NAPKINS', 'MLM-HEADPHONES', 'MLM-ESSENTIAL_OILS', 'MLM-SOAP_AND_DETERGENT_DISPENSERS', 'MLM-AUDIO_AND_VIDEO_CONNECTORS', 'MLM-TELEVISIONS', 'MLM-ORTHOPEDIC_SHOULDER_PADS', 'MLM-FLOUR', 'MLM-DOOR_AND_WINDOW_AWNINGS_AND_EAVES', 'MLM-EYELASH_EXTENSIONS', 'MLM-PET_COLOGNES_AND_PERFUMES', 'MLM-DISHES_PLATES', 'MLM-CHARCOAL_GRILLS', 'MLM-INSTANT_COFFEE', 'MLM-MANUAL_DRINKING_WATER_PUMPS', 'MLM-DINING_CHAIRS', 'MLM-SPEAKERS', 'MLM-SOUVENIRS', 'MLM-DRINKING_GLASSES', 'MLM-THERMOMETERS', 'MLM-BODYWEIGHT_SCALES', 'MLM-CHARMS_AND_MEDALS', 'MLM-BLOUSES', 'MLM-AIR_CONDITIONERS', 'MLM-NOTEBOOKS_AND_WRITING_PADS', 'MLM-DOLLHOUSES', 'MLM-AUTOMOTIVE_LED_LIGHT_BARS', 'MLM-WORKBENCHES', 'MLM-ELECTRIC_SCREWDRIVERS', 'MLM-MAKEUP', 'MLM-SMART_SPEAKERS', 'MLM-KITCHEN_POTS', 'MLM-DECORATIVE_PAINTINGS', 'MLM-ORTHOPEDIC_WRIST_BRACES', 'MLM-MOTOR_STARTERS', 'MLM-TABLETS', 'MLM-FABRIC_SOFTENERS', 'MLM-BABY_BOTTLE_BRUSHES', 'MLM-BICYCLE_LIGHTS', 'MLM-GAMEPADS_AND_JOYSTICKS', 'MLM-KITCHEN_SUPPLIES', 'MLM-TOOL_BOXES', 'MLM-FACIAL_STEAMERS', 'MLM-JEWELRY', 'MLM-BODY_SHAPERS', 'MLM-WRENCHES', 'MLM-TOILET_PAPERS', 'MLM-LAUNDRY_DETERGENTS', 'MLM-HAIR_CLIPS', 'MLM-MANICURE_AND_PEDICURE_SUPPLIES', 'MLM-THERMAL_REFRIGERATORS_AND_BAGS', 'MLM-DECORATIVE_BASKETS', 'MLM-WORK_JACKETS', 'MLM-FACE_MASKS', 'MLM-SAFETY_GLOVES', 'MLM-ELECTRONIC_PRODUCTS', 'MLM-MARKERS_AND_HIGHLIGHTERS', 'MLM-HARD_DRIVES_AND_SSDS', 'MLM-BICYCLES', 'MLM-BABY_ACTIVITY_CENTERS', 'MLM-CANDIES', 'MLM-JACKETS_AND_COATS', 'MLM-BABY_FEEDING_SETS', 'MLM-TOOTHBRUSHES', 'MLM-HUMIDIFIERS_AND_VAPORIZERS', 'MLM-MAKEUP_BRUSHES', 'MLM-TANDEM_CHAIRS', 'MLM-KEYBOARD_CONTROLLERS', 'MLM-VEHICLE_LED_BULBS', 'MLM-WET_BABY_WIPES', 'MLM-GINGER', 'MLM-GARDEN_SPRAYERS', 'MLM-SKIN_CARE_KITS', 'MLM-MUSIC_ALBUMS', 'MLM-HAIR_TREATMENTS', 'MLM-CATS_AND_DOGS_TREATS', 'MLM-KITCHEN_COOKWARE_SETS', 'MLM-GARDEN_AND_OUTDOOR_SUPPLIES', 'MLM-MUGS', 'MLM-DIECAST_VEHICLES', 'MLM-MICROCONTROLLER_BOARDS', 'MLM-SKIN_CARE_SUPPLIES', 'MLM-STICKERS', 'MLM-ELECTRIC_SHOWER_HEADS', 'MLM-AUTOMOTIVE_SPRING_SUSPENSIONS', 'MLM-HAIR_DYES_COLORANTS_DECOLORANTS', 'MLM-LED_STAGE_LIGHTS', 'MLM-HEALTH_CARE_SUPPLIES', 'MLM-WARDROBES', 'MLM-BOOTS_AND_BOOTIES', 'MLM-BARBECUE_TOOL_SETS', 'MLM-HANDBAGS', 'MLM-BABY_SUPPLIES', 'MLM-BOOKS', 'MLM-KEYCHAINS', 'MLM-LOAFERS_AND_OXFORDS', 'MLM-ADHESIVE_TAPES', 'MLM-LAPTOP_CHARGERS', 'MLM-BABY_CLOTHING_SETS', 'MLM-BACKPACKS', 'MLM-SQUISHIES', 'MLM-FACIAL_SKIN_CARE_PRODUCTS', 'MLM-HAND_BLENDERS', 'MLM-FLOOR_DEODORIZERS', 'MLM-BALLOONS', 'MLM-KITCHEN_THERMOMETERS', 'MLM-COSTUMES', 'MLM-COMBUSTION_CHAINSAWS', 'MLM-PAINT_MACHINES', 'MLM-ELECTRIC_TOOTHBRUSHES', 'MLM-BEERS', 'MLM-BLOOD_PRESSURE_MONITORS', 'MLM-ELECTRIC_SANDWICH_MAKERS', 'MLM-BAR_SOAPS', 'MLM-FANS', 'MLM-AIR_COMPRESSORS', 'MLM-ELECTRIC_TOOL_SETS', 'MLM-HOUSEHOLD_CLEANING_WET_WIPES', 'MLM-VACUUM_CLEANER_BAGS', 'MLM-AUDIO_AND_VIDEO_CABLES_AND_ADAPTERS', 'MLM-FLATWARE_SETS', 'MLM-REFRIGERATORS', 'MLM-LAUNDRY_BAR_SOAPS', 'MLM-OFFICE_RUBBER_BANDS', 'MLM-FISH_FOODS', 'MLM-ELECTRIC_AIR_PUMPS', 'MLM-FOOTBALL_SHOES', 'MLM-HANDBAG_SETS', 'MLM-HEART_RATE_MONITORS', 'MLM-DOLL_PLAYSETS', 'MLM-MAKEUP_REMOVERS', 'MLM-PAPER_SHREDDERS', 'MLM-NAIL_POLISH', 'MLM-FOOTBALL_SHIRTS', 'MLM-BLEACHES', 'MLM-ANIMAL_AND_PET_PRODUCTS', 'MLM-PHOTOGRAPHY_ACCESSORIES_AND_SPARE_PARTS', 'MLM-KITCHEN_PAPER_TOWELS', 'MLM-AUTOMOTIVE_SPEAKERS', 'MLM-SCHOOL_AND_OFFICE_SUPPLIES', 'MLM-OUTDOOR_TABLES', 'MLM-CLOTHING', 'MLM-BLUSHES', 'MLM-CARD_PAYMENT_TERMINALS', 'MLM-MASSAGE_EQUIPMENT', 'MLM-ELECTRIC_GUITARS', 'MLM-WRENCH_SETS', 'MLM-DOLL_AND_ACTION_FIGURE_SETS', 'MLM-MAGNIFYING_GLASSES', 'MLM-PERFUMES', 'MLM-AEROBICS_AND_FITNESS_EQUIPMENT', 'MLM-SCHOOL_AND_OFFICE_PAPERS', 'MLM-BABY_CAR_MIRRORS', 'MLM-HAIR_CLIPPERS', 'MLM-TEXTILE_ELASTICS', 'MLM-SHOE_RACKS', 'MLM-LAUNDRY_BASKETS', 'MLM-TOYS_AND_GAMES', 'MLM-PORTABLE_ELECTRIC_MASSAGERS'}\n"
     ]
    }
   ],
   "source": [
    "# Identificación de comunidades\n",
    "communities = community.louvain_communities(G, weight='weight')\n",
    "print(\"Comunidades identificadas:\")\n",
    "for i, community in enumerate(communities):\n",
    "    print(f\"Comunidad {i+1}: {community}\")"
   ]
  },
  {
   "cell_type": "markdown",
   "metadata": {},
   "source": [
    "Por ejemplo, productos relacionados con utensilios de cocina, ropa deportiva, y accesorios de dispositivos electrónicos suelen agruparse en comunidades específicas. Esto sugiere que estos productos pueden tener una demanda complementaria y, por lo tanto, podrían beneficiarse de estrategias de bundling (agrupación en paquetes de ofertas) o promociones conjuntas."
   ]
  },
  {
   "cell_type": "markdown",
   "metadata": {},
   "source": [
    "### Evaluación de la Importancia Financiera\n",
    "\n",
    "Los productos que tienen alta centralidad en la red pueden ser fundamentales para la estrategia de precios."
   ]
  },
  {
   "cell_type": "code",
   "execution_count": 9,
   "metadata": {},
   "outputs": [
    {
     "name": "stdout",
     "output_type": "stream",
     "text": [
      "Top 10 nodos más críticos según centralidad de intermediación:\n"
     ]
    },
    {
     "data": {
      "text/plain": [
       "[('MLM-BATH_TOWELS', 0.004205548394982671),\n",
       " ('MLM-FITNESS_TRAMPOLINES', 0.0029132113769020367),\n",
       " ('MLM-BEAUTY_AND_PERSONAL_CARE_SUPPLIES', 0.0025918163435676733),\n",
       " ('MLM-VEHICLE_ACCESSORIES', 0.0025167352990808703),\n",
       " ('MLM-AUDIO_AND_VIDEO_CABLES_AND_ADAPTERS', 0.0024168814301443685),\n",
       " ('MLM-DOG_CARRIERS_AND_CARRYING_BAGS', 0.0023807649617991304),\n",
       " ('MLM-SPORT_BRAS', 0.00232335190804214),\n",
       " ('MLM-SMARTWATCHES', 0.0022779042409188173),\n",
       " ('MLM-BABY_SUPPLIES', 0.002276953037231563),\n",
       " ('MLM-FLATWARE_SETS', 0.0022667974513376284)]"
      ]
     },
     "execution_count": 9,
     "metadata": {},
     "output_type": "execute_result"
    }
   ],
   "source": [
    "# Calcular la centralidad de intermediación\n",
    "betweenness = nx.betweenness_centrality(G, weight='weight')\n",
    "sorted_by_betweenness = sorted(betweenness.items(), key=lambda item: item[1], reverse=True)\n",
    "top_10_critical_nodes = sorted_by_betweenness[:10]\n",
    "print(\"Top 10 nodos más críticos según centralidad de intermediación:\")\n",
    "top_10_critical_nodes"
   ]
  },
  {
   "cell_type": "markdown",
   "metadata": {},
   "source": [
    "Los productos como MLM-BATH_TOWELS y MLM-FITNESS_TRAMPOLINES tienen alta centralidad de intermediación, lo que significa que son productos clave en la red de ventas. Estos productos actúan como puentes en la red, conectando diferentes grupos de productos. Un cambio en el precio o promoción de estos productos podría tener un impacto significativo en las ventas de otros productos conectados. Sería interesante crear escenarios de simulación de cambio de precios para poder observar el comportamient de la red."
   ]
  },
  {
   "cell_type": "code",
   "execution_count": 10,
   "metadata": {},
   "outputs": [
    {
     "name": "stdout",
     "output_type": "stream",
     "text": [
      "Top 10 nodos más críticos según centralidad de grado:\n"
     ]
    },
    {
     "data": {
      "text/plain": [
       "[('MLM-PANTS', 1.0),\n",
       " ('MLM-SHORTS', 1.0),\n",
       " ('MLM-SURGICAL_AND_INDUSTRIAL_MASKS', 1.0),\n",
       " ('MLM-WALLETS', 1.0),\n",
       " ('MLM-HEADPHONES', 1.0),\n",
       " ('MLM-SANDALS_AND_FLIP_FLOPS', 1.0),\n",
       " ('MLM-WRISTWATCHES', 1.0),\n",
       " ('MLM-SNEAKERS', 0.9984189723320158),\n",
       " ('MLM-AEROBICS_AND_FITNESS_EQUIPMENT', 0.9976284584980237),\n",
       " ('MLM-ACTION_FIGURES', 0.9960474308300395)]"
      ]
     },
     "execution_count": 10,
     "metadata": {},
     "output_type": "execute_result"
    }
   ],
   "source": [
    "# Calcular la centralidad de grado\n",
    "degree_centrality = nx.degree_centrality(G)\n",
    "sorted_by_degree = sorted(degree_centrality.items(), key=lambda item: item[1], reverse=True)\n",
    "top_10_degree_nodes = sorted_by_degree[:10]\n",
    "print(\"Top 10 nodos más críticos según centralidad de grado:\")\n",
    "top_10_degree_nodes"
   ]
  },
  {
   "cell_type": "code",
   "execution_count": 11,
   "metadata": {},
   "outputs": [
    {
     "name": "stdout",
     "output_type": "stream",
     "text": [
      "Top 10 nodos más críticos según centralidad de cercanía:\n"
     ]
    },
    {
     "data": {
      "text/plain": [
       "[('MLM-PANTS', 1.0),\n",
       " ('MLM-SHORTS', 1.0),\n",
       " ('MLM-SURGICAL_AND_INDUSTRIAL_MASKS', 1.0),\n",
       " ('MLM-WALLETS', 1.0),\n",
       " ('MLM-HEADPHONES', 1.0),\n",
       " ('MLM-SANDALS_AND_FLIP_FLOPS', 1.0),\n",
       " ('MLM-WRISTWATCHES', 1.0),\n",
       " ('MLM-SNEAKERS', 0.9984214680347278),\n",
       " ('MLM-AEROBICS_AND_FITNESS_EQUIPMENT', 0.9976340694006309),\n",
       " ('MLM-ACTION_FIGURES', 0.9960629921259843)]"
      ]
     },
     "execution_count": 11,
     "metadata": {},
     "output_type": "execute_result"
    }
   ],
   "source": [
    "# Calcular la centralidad de cercanía\n",
    "closeness_centrality = nx.closeness_centrality(G)\n",
    "sorted_by_closeness = sorted(closeness_centrality.items(), key=lambda item: item[1], reverse=True)\n",
    "top_10_closeness_nodes = sorted_by_closeness[:10]\n",
    "print(\"Top 10 nodos más críticos según centralidad de cercanía:\")\n",
    "top_10_closeness_nodes"
   ]
  },
  {
   "cell_type": "markdown",
   "metadata": {},
   "source": [
    "Los roductos como MLM-PANTS, MLM-SHORTS, y MLM-SURGICAL_AND_INDUSTRIAL_MASKS tienen alta centralidad de grado y cercanía, lo que indica que están altamente conectados con muchos otros productos. Estos productos podrían ser cruciales para campañas de marketing debido a su amplia conectividad en la red, osea productos comúnmente vendido junto con otros."
   ]
  },
  {
   "cell_type": "markdown",
   "metadata": {},
   "source": [
    "### Simulación de Escenarios para la Optimización de Márgenes de Ganancia\n",
    "\n",
    "Vamos aplicar un modelo predictivo para predecir las ventas con y sin descuentos, y considerar la venta cruzada y bundling para maximizar las ganancias"
   ]
  },
  {
   "cell_type": "code",
   "execution_count": 12,
   "metadata": {},
   "outputs": [
    {
     "name": "stdout",
     "output_type": "stream",
     "text": [
      "Impacto estimado en ventas por cambiar el precio de MLM-BATH_TOWELS: 43981.51114330088\n",
      "Impacto estimado en ventas por cambiar el precio de MLM-FITNESS_TRAMPOLINES: 41604.63730519478\n",
      "Impacto estimado en ventas por cambiar el precio de MLM-BEAUTY_AND_PERSONAL_CARE_SUPPLIES: 48010.570646464716\n",
      "Impacto estimado en ventas por cambiar el precio de MLM-VEHICLE_ACCESSORIES: 46975.74474738165\n",
      "Impacto estimado en ventas por cambiar el precio de MLM-AUDIO_AND_VIDEO_CABLES_AND_ADAPTERS: 39675.15629778872\n",
      "Impacto estimado en ventas por cambiar el precio de MLM-DOG_CARRIERS_AND_CARRYING_BAGS: 35746.897346709215\n",
      "Impacto estimado en ventas por cambiar el precio de MLM-SPORT_BRAS: 28595.70944444467\n",
      "Impacto estimado en ventas por cambiar el precio de MLM-SMARTWATCHES: 45252.50327238228\n",
      "Impacto estimado en ventas por cambiar el precio de MLM-BABY_SUPPLIES: 44228.97088625507\n",
      "Impacto estimado en ventas por cambiar el precio de MLM-FLATWARE_SETS: 30930.501849458\n"
     ]
    }
   ],
   "source": [
    "# Simulación de ajustes de precio\n",
    "def simulate_price_impact(node, price_change, G, df):\n",
    "    # Ajustar el precio de un producto y evaluar el impacto en la red\n",
    "    affected_products = [edge[1] for edge in G.edges(node)]\n",
    "    impact = 0\n",
    "    for product in affected_products:\n",
    "        # Supongamos que la elasticidad precio-demanda es inversa\n",
    "        impact += price_change * (1 / (1 + G[node][product]['weight']))\n",
    "    \n",
    "    # Simular el impacto en las ventas globales\n",
    "    total_sales_impact = impact * len(affected_products)\n",
    "    print(f\"Impacto estimado en ventas por cambiar el precio de {node}: {total_sales_impact}\")\n",
    "    return total_sales_impact\n",
    "\n",
    "# Cambiamos el precio de los productos más críticos y evaluar el impacto\n",
    "for node, _ in top_10_critical_nodes:\n",
    "    simulate_price_impact(node, 0.1, G, df_ofertas_relampago)  # Aumentar el precio en un 10%"
   ]
  },
  {
   "cell_type": "markdown",
   "metadata": {},
   "source": [
    "El impacto estimado en ventas por un cambio del 10% en el precio de los productos más críticos. Por ejemplo, se estima que un cambio en el precio de MLM-BEAUTY_AND_PERSONAL_CARE_SUPPLIES podría tener un impacto en ventas de aproximadamente 48,010 unidades. Este análisis es crucial para entender cómo las decisiones de precios pueden influir en la rentabilidad de toda la red de productos."
   ]
  },
  {
   "cell_type": "markdown",
   "metadata": {},
   "source": [
    "# Estrategia para Implementar Modelos Predictivos con Venta Cruzada (cross-selling) y Bundling\n",
    "\n",
    " Al ofrecer bundles (creación de paquetes de productos que ofrezcan valor añadido al cliente mientras maximizan la ganancia) o estrategias de venta cruzada basadas en patrones reales de compra, se puede mejorar la experiencia del cliente y aumentar el ticket promedio, optimizando así los márgenes de ganancia.\n",
    "\n"
   ]
  },
  {
   "cell_type": "code",
   "execution_count": 13,
   "metadata": {},
   "outputs": [],
   "source": [
    "features = [\n",
    "    'VERTICAL', 'SHIPPING_PAYMENT_TYPE', 'DOMAIN_ID',\n",
    "    'INVOLVED_STOCK', 'REMAINING_STOCK_AFTER_END', 'SOLD_AMOUNT', 'OFFER_DURATION_HOURS',\n",
    "    'OFFER_START_DAY', 'OFFER_START_MONTH', 'OFFER_START_WEEKDAY'\n",
    "]"
   ]
  },
  {
   "cell_type": "code",
   "execution_count": 14,
   "metadata": {},
   "outputs": [],
   "source": [
    "# Añadir las centralidades como nuevas columnas en el dataframe original\n",
    "df_ofertas_relampago['betweenness_centrality'] = df_ofertas_relampago['DOMAIN_ID'].map(betweenness)\n",
    "df_ofertas_relampago['degree_centrality'] = df_ofertas_relampago['DOMAIN_ID'].map(degree_centrality)\n",
    "df_ofertas_relampago['closeness_centrality'] = df_ofertas_relampago['DOMAIN_ID'].map(closeness_centrality)\n"
   ]
  },
  {
   "cell_type": "code",
   "execution_count": 15,
   "metadata": {},
   "outputs": [
    {
     "data": {
      "text/html": [
       "<div>\n",
       "<style scoped>\n",
       "    .dataframe tbody tr th:only-of-type {\n",
       "        vertical-align: middle;\n",
       "    }\n",
       "\n",
       "    .dataframe tbody tr th {\n",
       "        vertical-align: top;\n",
       "    }\n",
       "\n",
       "    .dataframe thead th {\n",
       "        text-align: right;\n",
       "    }\n",
       "</style>\n",
       "<table border=\"1\" class=\"dataframe\">\n",
       "  <thead>\n",
       "    <tr style=\"text-align: right;\">\n",
       "      <th></th>\n",
       "      <th>OFFER_START_DATE</th>\n",
       "      <th>OFFER_START_DTTM</th>\n",
       "      <th>OFFER_FINISH_DTTM</th>\n",
       "      <th>OFFER_TYPE</th>\n",
       "      <th>INVOLVED_STOCK</th>\n",
       "      <th>REMAINING_STOCK_AFTER_END</th>\n",
       "      <th>SOLD_AMOUNT</th>\n",
       "      <th>SOLD_QUANTITY</th>\n",
       "      <th>ORIGIN</th>\n",
       "      <th>SHIPPING_PAYMENT_TYPE</th>\n",
       "      <th>DOM_DOMAIN_AGG1</th>\n",
       "      <th>VERTICAL</th>\n",
       "      <th>DOMAIN_ID</th>\n",
       "      <th>betweenness_centrality</th>\n",
       "      <th>degree_centrality</th>\n",
       "      <th>closeness_centrality</th>\n",
       "    </tr>\n",
       "  </thead>\n",
       "  <tbody>\n",
       "    <tr>\n",
       "      <th>0</th>\n",
       "      <td>2021-06-22</td>\n",
       "      <td>2021-06-22 16:00:00+00:00</td>\n",
       "      <td>2021-06-22 23:02:43+00:00</td>\n",
       "      <td>lightning_deal</td>\n",
       "      <td>4</td>\n",
       "      <td>-2</td>\n",
       "      <td>4.72</td>\n",
       "      <td>6.0</td>\n",
       "      <td>A</td>\n",
       "      <td>none</td>\n",
       "      <td>PETS FOOD</td>\n",
       "      <td>CPG</td>\n",
       "      <td>MLM-BIRD_FOODS</td>\n",
       "      <td>0.000555</td>\n",
       "      <td>0.471146</td>\n",
       "      <td>0.654085</td>\n",
       "    </tr>\n",
       "    <tr>\n",
       "      <th>1</th>\n",
       "      <td>2021-06-22</td>\n",
       "      <td>2021-06-22 13:00:00+00:00</td>\n",
       "      <td>2021-06-22 19:00:02+00:00</td>\n",
       "      <td>lightning_deal</td>\n",
       "      <td>5</td>\n",
       "      <td>5</td>\n",
       "      <td>NaN</td>\n",
       "      <td>NaN</td>\n",
       "      <td>NaN</td>\n",
       "      <td>free_shipping</td>\n",
       "      <td>PET PRODUCTS</td>\n",
       "      <td>OTHERS</td>\n",
       "      <td>MLM-ANIMAL_AND_PET_PRODUCTS</td>\n",
       "      <td>0.001154</td>\n",
       "      <td>0.783399</td>\n",
       "      <td>0.821962</td>\n",
       "    </tr>\n",
       "    <tr>\n",
       "      <th>2</th>\n",
       "      <td>2021-06-22</td>\n",
       "      <td>2021-06-22 07:00:00+00:00</td>\n",
       "      <td>2021-06-22 13:00:01+00:00</td>\n",
       "      <td>lightning_deal</td>\n",
       "      <td>15</td>\n",
       "      <td>12</td>\n",
       "      <td>10.73</td>\n",
       "      <td>3.0</td>\n",
       "      <td>NaN</td>\n",
       "      <td>none</td>\n",
       "      <td>COMPUTERS</td>\n",
       "      <td>CE</td>\n",
       "      <td>MLM-SPEAKERS</td>\n",
       "      <td>0.001908</td>\n",
       "      <td>0.977075</td>\n",
       "      <td>0.977589</td>\n",
       "    </tr>\n",
       "    <tr>\n",
       "      <th>3</th>\n",
       "      <td>2021-06-22</td>\n",
       "      <td>2021-06-22 19:00:00+00:00</td>\n",
       "      <td>2021-06-23 01:36:12+00:00</td>\n",
       "      <td>lightning_deal</td>\n",
       "      <td>15</td>\n",
       "      <td>13</td>\n",
       "      <td>7.03</td>\n",
       "      <td>2.0</td>\n",
       "      <td>NaN</td>\n",
       "      <td>none</td>\n",
       "      <td>COMPUTERS</td>\n",
       "      <td>CE</td>\n",
       "      <td>MLM-HEADPHONES</td>\n",
       "      <td>0.001800</td>\n",
       "      <td>1.000000</td>\n",
       "      <td>1.000000</td>\n",
       "    </tr>\n",
       "    <tr>\n",
       "      <th>4</th>\n",
       "      <td>2021-06-22</td>\n",
       "      <td>2021-06-22 13:00:00+00:00</td>\n",
       "      <td>2021-06-22 15:48:12+00:00</td>\n",
       "      <td>lightning_deal</td>\n",
       "      <td>15</td>\n",
       "      <td>0</td>\n",
       "      <td>39.65</td>\n",
       "      <td>15.0</td>\n",
       "      <td>NaN</td>\n",
       "      <td>none</td>\n",
       "      <td>COMPUTERS</td>\n",
       "      <td>CE</td>\n",
       "      <td>MLM-HEADPHONES</td>\n",
       "      <td>0.001800</td>\n",
       "      <td>1.000000</td>\n",
       "      <td>1.000000</td>\n",
       "    </tr>\n",
       "    <tr>\n",
       "      <th>...</th>\n",
       "      <td>...</td>\n",
       "      <td>...</td>\n",
       "      <td>...</td>\n",
       "      <td>...</td>\n",
       "      <td>...</td>\n",
       "      <td>...</td>\n",
       "      <td>...</td>\n",
       "      <td>...</td>\n",
       "      <td>...</td>\n",
       "      <td>...</td>\n",
       "      <td>...</td>\n",
       "      <td>...</td>\n",
       "      <td>...</td>\n",
       "      <td>...</td>\n",
       "      <td>...</td>\n",
       "      <td>...</td>\n",
       "    </tr>\n",
       "    <tr>\n",
       "      <th>48741</th>\n",
       "      <td>2021-06-19</td>\n",
       "      <td>2021-06-19 13:00:00+00:00</td>\n",
       "      <td>2021-06-19 19:00:01+00:00</td>\n",
       "      <td>lightning_deal</td>\n",
       "      <td>15</td>\n",
       "      <td>9</td>\n",
       "      <td>16.28</td>\n",
       "      <td>6.0</td>\n",
       "      <td>NaN</td>\n",
       "      <td>none</td>\n",
       "      <td>HOME&amp;DECOR</td>\n",
       "      <td>HOME &amp; INDUSTRY</td>\n",
       "      <td>MLM-CHRISTMAS_LIGHTS</td>\n",
       "      <td>0.000621</td>\n",
       "      <td>0.743874</td>\n",
       "      <td>0.796098</td>\n",
       "    </tr>\n",
       "    <tr>\n",
       "      <th>48742</th>\n",
       "      <td>2021-06-19</td>\n",
       "      <td>2021-06-19 13:00:00+00:00</td>\n",
       "      <td>2021-06-19 19:00:01+00:00</td>\n",
       "      <td>lightning_deal</td>\n",
       "      <td>5</td>\n",
       "      <td>5</td>\n",
       "      <td>NaN</td>\n",
       "      <td>NaN</td>\n",
       "      <td>NaN</td>\n",
       "      <td>free_shipping</td>\n",
       "      <td>HOME&amp;DECOR</td>\n",
       "      <td>HOME &amp; INDUSTRY</td>\n",
       "      <td>MLM-DECORATIVE_PAINTINGS</td>\n",
       "      <td>0.000890</td>\n",
       "      <td>0.734387</td>\n",
       "      <td>0.790131</td>\n",
       "    </tr>\n",
       "    <tr>\n",
       "      <th>48743</th>\n",
       "      <td>2021-06-19</td>\n",
       "      <td>2021-06-19 07:00:00+00:00</td>\n",
       "      <td>2021-06-19 13:00:03+00:00</td>\n",
       "      <td>lightning_deal</td>\n",
       "      <td>5</td>\n",
       "      <td>3</td>\n",
       "      <td>16.62</td>\n",
       "      <td>2.0</td>\n",
       "      <td>NaN</td>\n",
       "      <td>free_shipping</td>\n",
       "      <td>HOME&amp;DECOR</td>\n",
       "      <td>HOME &amp; INDUSTRY</td>\n",
       "      <td>MLM-INDOOR_CURTAINS_AND_BLINDS</td>\n",
       "      <td>0.001500</td>\n",
       "      <td>0.935178</td>\n",
       "      <td>0.939124</td>\n",
       "    </tr>\n",
       "    <tr>\n",
       "      <th>48744</th>\n",
       "      <td>2021-06-19</td>\n",
       "      <td>2021-06-19 13:00:00+00:00</td>\n",
       "      <td>2021-06-19 19:00:00+00:00</td>\n",
       "      <td>lightning_deal</td>\n",
       "      <td>5</td>\n",
       "      <td>1</td>\n",
       "      <td>38.79</td>\n",
       "      <td>4.0</td>\n",
       "      <td>NaN</td>\n",
       "      <td>free_shipping</td>\n",
       "      <td>HOME&amp;DECOR</td>\n",
       "      <td>HOME &amp; INDUSTRY</td>\n",
       "      <td>MLM-INDOOR_CURTAINS_AND_BLINDS</td>\n",
       "      <td>0.001500</td>\n",
       "      <td>0.935178</td>\n",
       "      <td>0.939124</td>\n",
       "    </tr>\n",
       "    <tr>\n",
       "      <th>48745</th>\n",
       "      <td>2021-06-19</td>\n",
       "      <td>2021-06-19 13:00:00+00:00</td>\n",
       "      <td>2021-06-19 19:00:00+00:00</td>\n",
       "      <td>lightning_deal</td>\n",
       "      <td>15</td>\n",
       "      <td>15</td>\n",
       "      <td>NaN</td>\n",
       "      <td>NaN</td>\n",
       "      <td>NaN</td>\n",
       "      <td>free_shipping</td>\n",
       "      <td>HOME&amp;DECOR</td>\n",
       "      <td>HOME &amp; INDUSTRY</td>\n",
       "      <td>MLM-BED_SHEETS</td>\n",
       "      <td>0.001523</td>\n",
       "      <td>0.934387</td>\n",
       "      <td>0.938427</td>\n",
       "    </tr>\n",
       "  </tbody>\n",
       "</table>\n",
       "<p>48746 rows × 16 columns</p>\n",
       "</div>"
      ],
      "text/plain": [
       "      OFFER_START_DATE           OFFER_START_DTTM          OFFER_FINISH_DTTM  \\\n",
       "0           2021-06-22  2021-06-22 16:00:00+00:00  2021-06-22 23:02:43+00:00   \n",
       "1           2021-06-22  2021-06-22 13:00:00+00:00  2021-06-22 19:00:02+00:00   \n",
       "2           2021-06-22  2021-06-22 07:00:00+00:00  2021-06-22 13:00:01+00:00   \n",
       "3           2021-06-22  2021-06-22 19:00:00+00:00  2021-06-23 01:36:12+00:00   \n",
       "4           2021-06-22  2021-06-22 13:00:00+00:00  2021-06-22 15:48:12+00:00   \n",
       "...                ...                        ...                        ...   \n",
       "48741       2021-06-19  2021-06-19 13:00:00+00:00  2021-06-19 19:00:01+00:00   \n",
       "48742       2021-06-19  2021-06-19 13:00:00+00:00  2021-06-19 19:00:01+00:00   \n",
       "48743       2021-06-19  2021-06-19 07:00:00+00:00  2021-06-19 13:00:03+00:00   \n",
       "48744       2021-06-19  2021-06-19 13:00:00+00:00  2021-06-19 19:00:00+00:00   \n",
       "48745       2021-06-19  2021-06-19 13:00:00+00:00  2021-06-19 19:00:00+00:00   \n",
       "\n",
       "           OFFER_TYPE  INVOLVED_STOCK  REMAINING_STOCK_AFTER_END  SOLD_AMOUNT  \\\n",
       "0      lightning_deal               4                         -2         4.72   \n",
       "1      lightning_deal               5                          5          NaN   \n",
       "2      lightning_deal              15                         12        10.73   \n",
       "3      lightning_deal              15                         13         7.03   \n",
       "4      lightning_deal              15                          0        39.65   \n",
       "...               ...             ...                        ...          ...   \n",
       "48741  lightning_deal              15                          9        16.28   \n",
       "48742  lightning_deal               5                          5          NaN   \n",
       "48743  lightning_deal               5                          3        16.62   \n",
       "48744  lightning_deal               5                          1        38.79   \n",
       "48745  lightning_deal              15                         15          NaN   \n",
       "\n",
       "       SOLD_QUANTITY ORIGIN SHIPPING_PAYMENT_TYPE DOM_DOMAIN_AGG1  \\\n",
       "0                6.0      A                  none       PETS FOOD   \n",
       "1                NaN    NaN         free_shipping    PET PRODUCTS   \n",
       "2                3.0    NaN                  none       COMPUTERS   \n",
       "3                2.0    NaN                  none       COMPUTERS   \n",
       "4               15.0    NaN                  none       COMPUTERS   \n",
       "...              ...    ...                   ...             ...   \n",
       "48741            6.0    NaN                  none      HOME&DECOR   \n",
       "48742            NaN    NaN         free_shipping      HOME&DECOR   \n",
       "48743            2.0    NaN         free_shipping      HOME&DECOR   \n",
       "48744            4.0    NaN         free_shipping      HOME&DECOR   \n",
       "48745            NaN    NaN         free_shipping      HOME&DECOR   \n",
       "\n",
       "              VERTICAL                       DOMAIN_ID  \\\n",
       "0                  CPG                  MLM-BIRD_FOODS   \n",
       "1               OTHERS     MLM-ANIMAL_AND_PET_PRODUCTS   \n",
       "2                   CE                    MLM-SPEAKERS   \n",
       "3                   CE                  MLM-HEADPHONES   \n",
       "4                   CE                  MLM-HEADPHONES   \n",
       "...                ...                             ...   \n",
       "48741  HOME & INDUSTRY            MLM-CHRISTMAS_LIGHTS   \n",
       "48742  HOME & INDUSTRY        MLM-DECORATIVE_PAINTINGS   \n",
       "48743  HOME & INDUSTRY  MLM-INDOOR_CURTAINS_AND_BLINDS   \n",
       "48744  HOME & INDUSTRY  MLM-INDOOR_CURTAINS_AND_BLINDS   \n",
       "48745  HOME & INDUSTRY                  MLM-BED_SHEETS   \n",
       "\n",
       "       betweenness_centrality  degree_centrality  closeness_centrality  \n",
       "0                    0.000555           0.471146              0.654085  \n",
       "1                    0.001154           0.783399              0.821962  \n",
       "2                    0.001908           0.977075              0.977589  \n",
       "3                    0.001800           1.000000              1.000000  \n",
       "4                    0.001800           1.000000              1.000000  \n",
       "...                       ...                ...                   ...  \n",
       "48741                0.000621           0.743874              0.796098  \n",
       "48742                0.000890           0.734387              0.790131  \n",
       "48743                0.001500           0.935178              0.939124  \n",
       "48744                0.001500           0.935178              0.939124  \n",
       "48745                0.001523           0.934387              0.938427  \n",
       "\n",
       "[48746 rows x 16 columns]"
      ]
     },
     "execution_count": 15,
     "metadata": {},
     "output_type": "execute_result"
    }
   ],
   "source": [
    "df_ofertas_relampago"
   ]
  },
  {
   "cell_type": "markdown",
   "metadata": {},
   "source": [
    "## Probabilidad de Compra \n",
    "La idea detrás de la probabilidad de compra es predecir si un cliente comprará un producto adicional dado que ya ha comprado otro producto."
   ]
  },
  {
   "cell_type": "code",
   "execution_count": 16,
   "metadata": {},
   "outputs": [],
   "source": [
    "import seaborn as sns\n",
    "from sklearn.linear_model import LogisticRegression\n",
    "from sklearn.ensemble import RandomForestRegressor\n",
    "from sklearn.svm import SVC\n",
    "from xgboost import XGBClassifier\n",
    "from sklearn.pipeline import Pipeline\n",
    "from sklearn.model_selection import GridSearchCV\n",
    "from sklearn.preprocessing import OneHotEncoder, StandardScaler\n",
    "from sklearn.compose import ColumnTransformer\n",
    "from sklearn.metrics import mean_squared_error, accuracy_score, recall_score, precision_score, f1_score"
   ]
  },
  {
   "cell_type": "markdown",
   "metadata": {},
   "source": [
    "Generar todas las combinaciones posibles de productos:"
   ]
  },
  {
   "cell_type": "code",
   "execution_count": 17,
   "metadata": {},
   "outputs": [],
   "source": [
    "def create_all_product_pairs(df):\n",
    "    all_products = df['DOMAIN_ID'].unique()\n",
    "    product_pairs = list(combinations(all_products, 2))\n",
    "    return pd.DataFrame(product_pairs, columns=['Product_A', 'Product_B'])\n",
    "\n",
    "df_pairs = create_all_product_pairs(df_ofertas_relampago)"
   ]
  },
  {
   "cell_type": "code",
   "execution_count": 18,
   "metadata": {},
   "outputs": [
    {
     "data": {
      "text/plain": [
       "800745"
      ]
     },
     "execution_count": 18,
     "metadata": {},
     "output_type": "execute_result"
    }
   ],
   "source": [
    "len(df_pairs)"
   ]
  },
  {
   "cell_type": "markdown",
   "metadata": {},
   "source": [
    "Añadimos una columna que indique si ambos productos del par fueron comprados juntos (1) o no (0)."
   ]
  },
  {
   "cell_type": "code",
   "execution_count": null,
   "metadata": {},
   "outputs": [],
   "source": [
    "def check_purchased_together(row, df):\n",
    "    purchases_A = df[df['DOMAIN_ID'] == row['Product_A']]['OFFER_START_DATE']\n",
    "    purchases_B = df[df['DOMAIN_ID'] == row['Product_B']]['OFFER_START_DATE']\n",
    "    # Check if there is any overlap in the offer dates\n",
    "    purchased_together = purchases_A.isin(purchases_B).any()\n",
    "    return 1 if purchased_together else 0\n",
    "\n",
    "df_pairs['Purchased_Together'] = df_pairs.apply(check_purchased_together, df=df_ofertas_relampago, axis=1)"
   ]
  },
  {
   "cell_type": "code",
   "execution_count": null,
   "metadata": {},
   "outputs": [
    {
     "data": {
      "text/html": [
       "<div>\n",
       "<style scoped>\n",
       "    .dataframe tbody tr th:only-of-type {\n",
       "        vertical-align: middle;\n",
       "    }\n",
       "\n",
       "    .dataframe tbody tr th {\n",
       "        vertical-align: top;\n",
       "    }\n",
       "\n",
       "    .dataframe thead th {\n",
       "        text-align: right;\n",
       "    }\n",
       "</style>\n",
       "<table border=\"1\" class=\"dataframe\">\n",
       "  <thead>\n",
       "    <tr style=\"text-align: right;\">\n",
       "      <th></th>\n",
       "      <th>Product_A</th>\n",
       "      <th>Product_B</th>\n",
       "      <th>Purchased_Together</th>\n",
       "    </tr>\n",
       "  </thead>\n",
       "  <tbody>\n",
       "    <tr>\n",
       "      <th>0</th>\n",
       "      <td>MLM-BIRD_FOODS</td>\n",
       "      <td>MLM-ANIMAL_AND_PET_PRODUCTS</td>\n",
       "      <td>1</td>\n",
       "    </tr>\n",
       "    <tr>\n",
       "      <th>1</th>\n",
       "      <td>MLM-BIRD_FOODS</td>\n",
       "      <td>MLM-SPEAKERS</td>\n",
       "      <td>1</td>\n",
       "    </tr>\n",
       "    <tr>\n",
       "      <th>2</th>\n",
       "      <td>MLM-BIRD_FOODS</td>\n",
       "      <td>MLM-HEADPHONES</td>\n",
       "      <td>1</td>\n",
       "    </tr>\n",
       "    <tr>\n",
       "      <th>3</th>\n",
       "      <td>MLM-BIRD_FOODS</td>\n",
       "      <td>MLM-SMART_SPEAKERS</td>\n",
       "      <td>1</td>\n",
       "    </tr>\n",
       "    <tr>\n",
       "      <th>4</th>\n",
       "      <td>MLM-BIRD_FOODS</td>\n",
       "      <td>MLM-ELECTRONIC_PRODUCTS</td>\n",
       "      <td>1</td>\n",
       "    </tr>\n",
       "    <tr>\n",
       "      <th>...</th>\n",
       "      <td>...</td>\n",
       "      <td>...</td>\n",
       "      <td>...</td>\n",
       "    </tr>\n",
       "    <tr>\n",
       "      <th>800740</th>\n",
       "      <td>MLM-THERMAL_REFRIGERATORS_AND_BAGS</td>\n",
       "      <td>MLM-PHOTOGRAPHY_ACCESSORIES_AND_SPARE_PARTS</td>\n",
       "      <td>1</td>\n",
       "    </tr>\n",
       "    <tr>\n",
       "      <th>800741</th>\n",
       "      <td>MLM-THERMAL_REFRIGERATORS_AND_BAGS</td>\n",
       "      <td>MLM-ELECTRIC_SANDWICH_MAKERS</td>\n",
       "      <td>1</td>\n",
       "    </tr>\n",
       "    <tr>\n",
       "      <th>800742</th>\n",
       "      <td>MLM-AEROBIC_CRUNCH_MACHINES</td>\n",
       "      <td>MLM-PHOTOGRAPHY_ACCESSORIES_AND_SPARE_PARTS</td>\n",
       "      <td>1</td>\n",
       "    </tr>\n",
       "    <tr>\n",
       "      <th>800743</th>\n",
       "      <td>MLM-AEROBIC_CRUNCH_MACHINES</td>\n",
       "      <td>MLM-ELECTRIC_SANDWICH_MAKERS</td>\n",
       "      <td>1</td>\n",
       "    </tr>\n",
       "    <tr>\n",
       "      <th>800744</th>\n",
       "      <td>MLM-PHOTOGRAPHY_ACCESSORIES_AND_SPARE_PARTS</td>\n",
       "      <td>MLM-ELECTRIC_SANDWICH_MAKERS</td>\n",
       "      <td>1</td>\n",
       "    </tr>\n",
       "  </tbody>\n",
       "</table>\n",
       "<p>800745 rows × 3 columns</p>\n",
       "</div>"
      ],
      "text/plain": [
       "                                          Product_A  \\\n",
       "0                                    MLM-BIRD_FOODS   \n",
       "1                                    MLM-BIRD_FOODS   \n",
       "2                                    MLM-BIRD_FOODS   \n",
       "3                                    MLM-BIRD_FOODS   \n",
       "4                                    MLM-BIRD_FOODS   \n",
       "...                                             ...   \n",
       "800740           MLM-THERMAL_REFRIGERATORS_AND_BAGS   \n",
       "800741           MLM-THERMAL_REFRIGERATORS_AND_BAGS   \n",
       "800742                  MLM-AEROBIC_CRUNCH_MACHINES   \n",
       "800743                  MLM-AEROBIC_CRUNCH_MACHINES   \n",
       "800744  MLM-PHOTOGRAPHY_ACCESSORIES_AND_SPARE_PARTS   \n",
       "\n",
       "                                          Product_B  Purchased_Together  \n",
       "0                       MLM-ANIMAL_AND_PET_PRODUCTS                   1  \n",
       "1                                      MLM-SPEAKERS                   1  \n",
       "2                                    MLM-HEADPHONES                   1  \n",
       "3                                MLM-SMART_SPEAKERS                   1  \n",
       "4                           MLM-ELECTRONIC_PRODUCTS                   1  \n",
       "...                                             ...                 ...  \n",
       "800740  MLM-PHOTOGRAPHY_ACCESSORIES_AND_SPARE_PARTS                   1  \n",
       "800741                 MLM-ELECTRIC_SANDWICH_MAKERS                   1  \n",
       "800742  MLM-PHOTOGRAPHY_ACCESSORIES_AND_SPARE_PARTS                   1  \n",
       "800743                 MLM-ELECTRIC_SANDWICH_MAKERS                   1  \n",
       "800744                 MLM-ELECTRIC_SANDWICH_MAKERS                   1  \n",
       "\n",
       "[800745 rows x 3 columns]"
      ]
     },
     "execution_count": 29,
     "metadata": {},
     "output_type": "execute_result"
    }
   ],
   "source": [
    "df_pairs"
   ]
  },
  {
   "cell_type": "markdown",
   "metadata": {},
   "source": [
    "Definimos nuestros features con aquellas variables que puedan influir en la probabilidad de que dos productos sean comprados juntos:\n",
    "\n",
    "*   **Cantidad de veces que cada producto fue vendido:**\n",
    "    *   SOLD_QUANTITY_A\n",
    "    *   SOLD_QUANTITY_B\n",
    "*   **Monto total vendido para cada producto:**\n",
    "    *   SOLD_AMOUNT_A\n",
    "    *   SOLD_AMOUNT_B\n",
    "*   **Categoría del producto (VERTICAL):**\n",
    "    *   VERTICAL_A\n",
    "    *   VERTICAL_B\n",
    "*   **Centralidad en la red de productos:**\n",
    "    *   betweenness_centrality_A\n",
    "    *   betweenness_centrality_B\n",
    "    *   degree_centrality_A\n",
    "    *   degree_centrality_B\n",
    "    *   closeness_centrality_A\n",
    "    *   closeness_centrality_B"
   ]
  },
  {
   "cell_type": "code",
   "execution_count": null,
   "metadata": {},
   "outputs": [
    {
     "ename": "",
     "evalue": "",
     "output_type": "error",
     "traceback": [
      "\u001b[1;31mThe Kernel crashed while executing code in the current cell or a previous cell. \n",
      "\u001b[1;31mPlease review the code in the cell(s) to identify a possible cause of the failure. \n",
      "\u001b[1;31mClick <a href='https://aka.ms/vscodeJupyterKernelCrash'>here</a> for more info. \n",
      "\u001b[1;31mView Jupyter <a href='command:jupyter.viewOutput'>log</a> for further details."
     ]
    }
   ],
   "source": [
    "# Extraer las características individuales de los productos\n",
    "df_product_features = df_ofertas_relampago[['DOMAIN_ID', 'VERTICAL', 'SOLD_QUANTITY', 'SOLD_AMOUNT', \n",
    "                                            'betweenness_centrality', 'degree_centrality', 'closeness_centrality']]\n",
    "\n",
    "# Renombrar las columnas para Producto A\n",
    "df_product_features_A = df_product_features.rename(columns={\n",
    "    'DOMAIN_ID': 'Product_A',\n",
    "    'VERTICAL': 'VERTICAL_A',\n",
    "    'SOLD_QUANTITY': 'SOLD_QUANTITY_A',\n",
    "    'SOLD_AMOUNT': 'SOLD_AMOUNT_A',\n",
    "    'betweenness_centrality': 'betweenness_centrality_A',\n",
    "    'degree_centrality': 'degree_centrality_A',\n",
    "    'closeness_centrality': 'closeness_centrality_A'\n",
    "})\n",
    "\n",
    "# Renombrar las columnas para Producto B\n",
    "df_product_features_B = df_product_features.rename(columns={\n",
    "    'DOMAIN_ID': 'Product_B',\n",
    "    'VERTICAL': 'VERTICAL_B',\n",
    "    'SOLD_QUANTITY': 'SOLD_QUANTITY_B',\n",
    "    'SOLD_AMOUNT': 'SOLD_AMOUNT_B',\n",
    "    'betweenness_centrality': 'betweenness_centrality_B',\n",
    "    'degree_centrality': 'degree_centrality_B',\n",
    "    'closeness_centrality': 'closeness_centrality_B'\n",
    "})"
   ]
  },
  {
   "cell_type": "code",
   "execution_count": null,
   "metadata": {},
   "outputs": [],
   "source": [
    "# Unir la información de Producto A y Producto B con los pares generados\n",
    "df_training = df_pairs.merge(df_product_features_A, on='Product_A')\n",
    "df_training = df_training.merge(df_product_features_B, on='Product_B')"
   ]
  },
  {
   "cell_type": "code",
   "execution_count": null,
   "metadata": {},
   "outputs": [],
   "source": [
    "# Crear columnas adicionales para características combinadas\n",
    "df_training['Same_Vertical'] = (df_training['VERTICAL_A'] == df_training['VERTICAL_B']).astype(int)\n",
    "\n",
    "# Por ejemplo, similitud entre centralidades\n",
    "df_training['Centrality_Difference'] = abs(df_training['degree_centrality_A'] - df_training['degree_centrality_B'])"
   ]
  },
  {
   "cell_type": "code",
   "execution_count": null,
   "metadata": {},
   "outputs": [],
   "source": [
    "df_training"
   ]
  },
  {
   "cell_type": "code",
   "execution_count": null,
   "metadata": {},
   "outputs": [],
   "source": [
    "# Definir las columnas categóricas que queremos codificar\n",
    "categorical_features = ['VERTICAL_A', 'VERTICAL_B', 'DOMAIN_ID_A', 'DOMAIN_ID_B']\n",
    "\n",
    "# Crear el ColumnTransformer\n",
    "preprocessor = ColumnTransformer(\n",
    "    transformers=[\n",
    "        ('cat', OneHotEncoder(handle_unknown='ignore'), categorical_features)\n",
    "    ], remainder='passthrough')"
   ]
  },
  {
   "cell_type": "code",
   "execution_count": null,
   "metadata": {},
   "outputs": [],
   "source": [
    "# Definir la variable objetivo\n",
    "target = 'Purchased_Together'"
   ]
  },
  {
   "cell_type": "code",
   "execution_count": null,
   "metadata": {},
   "outputs": [],
   "source": [
    "df_training"
   ]
  },
  {
   "cell_type": "code",
   "execution_count": null,
   "metadata": {},
   "outputs": [],
   "source": [
    "X = df_training[features]\n",
    "y = df_training[target]\n",
    "\n",
    "X_train, X_test, y_train, y_test = train_test_split(X, y, test_size=0.3, random_state=42)"
   ]
  },
  {
   "cell_type": "markdown",
   "metadata": {},
   "source": [
    "### Modelos aplicados a la predicción de compras Bundling"
   ]
  },
  {
   "cell_type": "markdown",
   "metadata": {},
   "source": [
    "Aplicar Random Forest"
   ]
  },
  {
   "cell_type": "code",
   "execution_count": null,
   "metadata": {},
   "outputs": [],
   "source": [
    "rf_pipeline = Pipeline(steps=[\n",
    "    ('preprocessor', preprocessor),\n",
    "    ('model', RandomForestRegressor(random_state=42))\n",
    "])\n",
    "\n",
    "rf_param_grid = {\n",
    "    'model__n_estimators': [500, 1000, 1500],\n",
    "    'model__max_depth': [4, 6, 8],\n",
    "    'model__min_samples_split': [2, 5, 10]\n",
    "}\n",
    "# Configurar GridSearchCV para Random Forest\n",
    "rf_grid = GridSearchCV(estimator=rf_pipeline, param_grid=rf_param_grid, cv=3, n_jobs=-1, scoring='neg_mean_squared_error')\n",
    "rf_grid.fit(X_train, y_train)"
   ]
  },
  {
   "cell_type": "code",
   "execution_count": null,
   "metadata": {},
   "outputs": [],
   "source": [
    "# Obtener los mejores parámetros\n",
    "best_params_rf = rf_grid.best_params_\n",
    "print(\"Mejores parámetros encontrados para Random Forest Regressor:\", best_params_rf)"
   ]
  },
  {
   "cell_type": "markdown",
   "metadata": {},
   "source": [
    "Aplicar LogisticRegression"
   ]
  },
  {
   "cell_type": "code",
   "execution_count": null,
   "metadata": {},
   "outputs": [],
   "source": [
    "lr_pipeline = Pipeline(steps=[\n",
    "    ('preprocessor', preprocessor),\n",
    "    ('model', LogisticRegression(random_state=42))\n",
    "])\n",
    "\n",
    "lr_param_grid = {\n",
    "    'model__C': [0.1, 1, 10],\n",
    "    'model__penalty': ['l2'],\n",
    "    'model__solver': ['lbfgs']\n",
    "}\n",
    "lr_grid = GridSearchCV(estimator=lr_pipeline, param_grid=lr_param_grid, cv=3, n_jobs=-1, scoring='neg_mean_squared_error')\n",
    "lr_grid.fit(X_train, y_train)"
   ]
  },
  {
   "cell_type": "code",
   "execution_count": null,
   "metadata": {},
   "outputs": [],
   "source": [
    "# Obtener los mejores parámetros\n",
    "best_params_lr = lr_grid.best_params_\n",
    "print(\"Mejores parámetros encontrados para LogisticRegression:\", best_params_lr)"
   ]
  },
  {
   "cell_type": "markdown",
   "metadata": {},
   "source": [
    "Aplicar XGBoost"
   ]
  },
  {
   "cell_type": "code",
   "execution_count": null,
   "metadata": {},
   "outputs": [],
   "source": [
    "xgb_pipeline = Pipeline(steps=[\n",
    "    ('preprocessor', preprocessor),\n",
    "    ('model', XGBClassifier(random_state=42, use_label_encoder=False))\n",
    "])\n",
    "\n",
    "xgb_param_grid = {\n",
    "    'model__n_estimators': [100, 200, 300],\n",
    "    'model__max_depth': [4, 6, 8],\n",
    "    'model__learning_rate': [0.01, 0.1, 0.2]\n",
    "}\n",
    "xgb_grid = GridSearchCV(estimator=xgb_pipeline, param_grid=xgb_param_grid, cv=3, n_jobs=-1, scoring='neg_mean_squared_error')\n",
    "xgb_grid.fit(X_train, y_train)"
   ]
  },
  {
   "cell_type": "code",
   "execution_count": null,
   "metadata": {},
   "outputs": [],
   "source": [
    "# Obtener los mejores parámetros\n",
    "best_params_xgb = xgb_grid.best_params_\n",
    "print(\"Mejores parámetros encontrados para XGBoost:\", best_params_xgb)"
   ]
  },
  {
   "cell_type": "markdown",
   "metadata": {},
   "source": [
    "Aplicar Support Vector Machine (SVM)"
   ]
  },
  {
   "cell_type": "code",
   "execution_count": null,
   "metadata": {},
   "outputs": [],
   "source": [
    "svm_pipeline = Pipeline(steps=[\n",
    "    ('preprocessor', preprocessor),\n",
    "    ('model', SVC(random_state=42, probability=True))\n",
    "])\n",
    "\n",
    "svm_param_grid = {\n",
    "    'model__C': [0.1, 1, 10],\n",
    "    'model__kernel': ['linear', 'rbf'],\n",
    "    'model__gamma': ['scale', 'auto']\n",
    "}\n",
    "svm_grid = GridSearchCV(estimator=svm_pipeline, param_grid=svm_param_grid, cv=3, n_jobs=-1, scoring='neg_mean_squared_error')\n",
    "svm_grid.fit(X_train, y_train)"
   ]
  },
  {
   "cell_type": "code",
   "execution_count": null,
   "metadata": {},
   "outputs": [],
   "source": [
    "# Obtener los mejores parámetros\n",
    "best_params_svm = svm_grid.best_params_\n",
    "print(\"Mejores parámetros encontrados para Support Vector Machine (SVM):\", best_params_svm)"
   ]
  },
  {
   "cell_type": "code",
   "execution_count": null,
   "metadata": {},
   "outputs": [],
   "source": [
    "# Comparación de los mejores resultados\n",
    "print(\"Best RF AUC: \", rf_grid.best_score_)\n",
    "print(\"Best LR AUC: \", lr_grid.best_score_)\n",
    "print(\"Best XGB AUC: \", xgb_grid.best_score_)\n",
    "print(\"Best SVM AUC: \", svm_grid.best_score_)"
   ]
  },
  {
   "cell_type": "code",
   "execution_count": null,
   "metadata": {},
   "outputs": [],
   "source": [
    "# Predecir en el conjunto de prueba\n",
    "y_test_pred_rf = rf_grid.predict(X_test)\n",
    "y_test_pred_lr = lr_grid.predict(X_test)\n",
    "y_test_pred_xgb = xgb_grid.predict(X_test)\n",
    "y_test_pred_svm = svm_grid.predict(X_test)"
   ]
  },
  {
   "cell_type": "code",
   "execution_count": null,
   "metadata": {},
   "outputs": [],
   "source": [
    "# Función para calcular métricas\n",
    "def calculate_metrics(y_true, y_pred):\n",
    "    y_pred_rounded = np.round(y_pred)\n",
    "    rmse = mean_squared_error(y_true, y_pred, squared=False)\n",
    "    accuracy = accuracy_score(y_true, y_pred_rounded)\n",
    "    recall = recall_score(y_true, y_pred_rounded, average='weighted')\n",
    "    precision = precision_score(y_true, y_pred_rounded, average='weighted')\n",
    "    f1 = f1_score(y_true, y_pred_rounded, average='weighted')\n",
    "    return rmse, accuracy, recall, precision, f1\n",
    "\n",
    "# Calcular métricas para cada modelo\n",
    "metrics_rf = calculate_metrics(y_test, y_test_pred_rf)\n",
    "metrics_lr = calculate_metrics(y_test, y_test_pred_lr)\n",
    "metrics_xgb = calculate_metrics(y_test, y_test_pred_xgb)\n",
    "metrics_svm = calculate_metrics(y_test, y_test_pred_svm)\n",
    "\n",
    "# Crear un DataFrame con los resultados de las métricas\n",
    "comparison_df = pd.DataFrame({\n",
    "    'Model': ['Random Forest', 'Logistic Regression', 'XGBoost', 'SVM'],\n",
    "    'RMSE': [metrics_rf[0], metrics_lr[0], metrics_xgb[0], metrics_svm[0]],\n",
    "    'Accuracy': [metrics_rf[1], metrics_lr[1], metrics_xgb[1], metrics_svm[1]],\n",
    "    'Recall': [metrics_rf[2], metrics_lr[2], metrics_xgb[2], metrics_svm[2]],\n",
    "    'Precision': [metrics_rf[3], metrics_lr[3], metrics_xgb[3], metrics_svm[3]],\n",
    "    'F1_Score': [metrics_rf[4], metrics_lr[4], metrics_xgb[4], metrics_svm[4]]\n",
    "})\n",
    "\n",
    "# Mostrar el DataFrame con la comparación\n",
    "comparison_df"
   ]
  },
  {
   "cell_type": "code",
   "execution_count": null,
   "metadata": {},
   "outputs": [],
   "source": [
    "# Crear un DataFrame para comparar los valores reales con las predicciones de cada modelo\n",
    "comparison_df = pd.DataFrame({\n",
    "    'Real': y_test,\n",
    "    'Random Forest': y_test_pred_rf,\n",
    "    'Logistic Regression': y_test_pred_lr,\n",
    "    'XGBoost': y_test_pred_xgb,\n",
    "    'SVM': y_test_pred_svm\n",
    "})\n",
    "\n",
    "# Mostrar las primeras 20 filas para comparación\n",
    "comparison_df.head(20)"
   ]
  },
  {
   "cell_type": "code",
   "execution_count": null,
   "metadata": {},
   "outputs": [],
   "source": [
    "# Gráfico de dispersión para ver las predicciones vs valores reales\n",
    "plt.figure(figsize=(20, 8))\n",
    "\n",
    "# Random Forest\n",
    "plt.subplot(2, 2, 1)\n",
    "sns.scatterplot(x=comparison_df['Real'], y=comparison_df['Random Forest Predicción'])\n",
    "plt.title('Random Forest: Real vs Predicción')\n",
    "plt.xlabel('Valor Real')\n",
    "plt.ylabel('Predicción')\n",
    "\n",
    "# Logistic Regression\n",
    "plt.subplot(2, 2, 2)\n",
    "sns.scatterplot(x=comparison_df['Real'], y=comparison_df['Logistic Regression Predicción'])\n",
    "plt.title('Logistic Regression: Real vs Predicción')\n",
    "plt.xlabel('Valor Real')\n",
    "plt.ylabel('Predicción')\n",
    "\n",
    "# XGBoost\n",
    "plt.subplot(2, 2, 3)\n",
    "sns.scatterplot(x=comparison_df['Real'], y=comparison_df['XGBoost Predicción'])\n",
    "plt.title('XGBoost: Real vs Predicción')\n",
    "plt.xlabel('Valor Real')\n",
    "plt.ylabel('Predicción')\n",
    "\n",
    "# SVM\n",
    "plt.subplot(2, 2, 4)\n",
    "sns.scatterplot(x=comparison_df['Real'], y=comparison_df['SVM Predicción'])\n",
    "plt.title('SVM: Real vs Predicción')\n",
    "plt.xlabel('Valor Real')\n",
    "plt.ylabel('Predicción')\n",
    "\n",
    "plt.tight_layout()\n",
    "plt.show()"
   ]
  }
 ],
 "metadata": {
  "kernelspec": {
   "display_name": "Data_Science",
   "language": "python",
   "name": "python3"
  },
  "language_info": {
   "codemirror_mode": {
    "name": "ipython",
    "version": 3
   },
   "file_extension": ".py",
   "mimetype": "text/x-python",
   "name": "python",
   "nbconvert_exporter": "python",
   "pygments_lexer": "ipython3",
   "version": "3.10.14"
  }
 },
 "nbformat": 4,
 "nbformat_minor": 2
}
